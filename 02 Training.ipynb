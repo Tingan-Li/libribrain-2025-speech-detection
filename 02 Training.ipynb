{
 "cells": [
  {
   "cell_type": "code",
   "execution_count": null,
   "id": "41c0e861-eee0-4546-9d59-e831f42f6b83",
   "metadata": {
    "scrolled": true
   },
   "outputs": [
    {
     "name": "stderr",
     "output_type": "stream",
     "text": [
      "/home/lta/miniconda3/envs/libribrain_2025/lib/python3.13/site-packages/torch/nn/modules/transformer.py:382: UserWarning: enable_nested_tensor is True, but self.use_nested_tensor is False because encoder_layer.self_attn.batch_first was not True(use batch_first for better inference performance)\n",
      "  warnings.warn(\n",
      "Epoch 1/100 (Train): 100%|██████████████████████████████| 2307/2307 [15:19<00:00,  2.51it/s, avg_loss=0.289, loss=0.272]\n"
     ]
    },
    {
     "name": "stdout",
     "output_type": "stream",
     "text": [
      "\n",
      "--- Epoch 1/100 Training Summary ---\n",
      "Train Average Loss (BCE): 0.288559\n",
      "Train F1-score: 0.776877\n",
      "Train Precision: 0.875939\n",
      "Train Recall: 0.697945\n",
      "Train ROC AUC: 0.500652\n"
     ]
    },
    {
     "name": "stderr",
     "output_type": "stream",
     "text": [
      "Validation: 100%|█████████████████████████████████████████████████████████████████████| 139/139 [00:06<00:00, 21.36it/s]\n"
     ]
    },
    {
     "name": "stdout",
     "output_type": "stream",
     "text": [
      "\n",
      "--- Epoch 1/100 Validation Summary ---\n",
      "Validation BCE Loss: 0.269950\n",
      "Validation F1-score: 0.819991\n",
      "Validation Precision: 0.886354\n",
      "Validation Recall: 0.762873\n",
      "Validation ROC AUC: 0.813890\n",
      "Current Learning Rate: 0.000100\n",
      "New best model saved with validation ROC AUC: 0.813890\n"
     ]
    },
    {
     "name": "stderr",
     "output_type": "stream",
     "text": [
      "Epoch 2/100 (Train): 100%|███████████████████████████████| 2307/2307 [15:30<00:00,  2.48it/s, avg_loss=0.256, loss=0.22]\n"
     ]
    },
    {
     "name": "stdout",
     "output_type": "stream",
     "text": [
      "\n",
      "--- Epoch 2/100 Training Summary ---\n",
      "Train Average Loss (BCE): 0.256036\n",
      "Train F1-score: 0.827366\n",
      "Train Precision: 0.899295\n",
      "Train Recall: 0.766091\n",
      "Train ROC AUC: 0.844935\n"
     ]
    },
    {
     "name": "stderr",
     "output_type": "stream",
     "text": [
      "Validation: 100%|█████████████████████████████████████████████████████████████████████| 139/139 [00:04<00:00, 31.93it/s]\n"
     ]
    },
    {
     "name": "stdout",
     "output_type": "stream",
     "text": [
      "\n",
      "--- Epoch 2/100 Validation Summary ---\n",
      "Validation BCE Loss: 0.262455\n",
      "Validation F1-score: 0.840059\n",
      "Validation Precision: 0.885454\n",
      "Validation Recall: 0.799091\n",
      "Validation ROC AUC: 0.828355\n",
      "Current Learning Rate: 0.000100\n",
      "New best model saved with validation ROC AUC: 0.828355\n"
     ]
    },
    {
     "name": "stderr",
     "output_type": "stream",
     "text": [
      "Epoch 3/100 (Train): 100%|██████████████████████████████| 2307/2307 [15:29<00:00,  2.48it/s, avg_loss=0.244, loss=0.251]\n"
     ]
    },
    {
     "name": "stdout",
     "output_type": "stream",
     "text": [
      "\n",
      "--- Epoch 3/100 Training Summary ---\n",
      "Train Average Loss (BCE): 0.243653\n",
      "Train F1-score: 0.840899\n",
      "Train Precision: 0.905533\n",
      "Train Recall: 0.784877\n",
      "Train ROC AUC: 0.837616\n"
     ]
    },
    {
     "name": "stderr",
     "output_type": "stream",
     "text": [
      "Validation: 100%|█████████████████████████████████████████████████████████████████████| 139/139 [00:04<00:00, 30.38it/s]\n"
     ]
    },
    {
     "name": "stdout",
     "output_type": "stream",
     "text": [
      "\n",
      "--- Epoch 3/100 Validation Summary ---\n",
      "Validation BCE Loss: 0.253676\n",
      "Validation F1-score: 0.840881\n",
      "Validation Precision: 0.894835\n",
      "Validation Recall: 0.793063\n",
      "Validation ROC AUC: 0.842690\n",
      "Current Learning Rate: 0.000100\n",
      "New best model saved with validation ROC AUC: 0.842690\n"
     ]
    },
    {
     "name": "stderr",
     "output_type": "stream",
     "text": [
      "Epoch 4/100 (Train): 100%|██████████████████████████████| 2307/2307 [16:22<00:00,  2.35it/s, avg_loss=0.234, loss=0.365]\n"
     ]
    },
    {
     "name": "stdout",
     "output_type": "stream",
     "text": [
      "\n",
      "--- Epoch 4/100 Training Summary ---\n",
      "Train Average Loss (BCE): 0.234090\n",
      "Train F1-score: 0.847313\n",
      "Train Precision: 0.911399\n",
      "Train Recall: 0.791646\n",
      "Train ROC AUC: 0.884459\n"
     ]
    },
    {
     "name": "stderr",
     "output_type": "stream",
     "text": [
      "Validation: 100%|█████████████████████████████████████████████████████████████████████| 139/139 [00:04<00:00, 29.66it/s]\n"
     ]
    },
    {
     "name": "stdout",
     "output_type": "stream",
     "text": [
      "\n",
      "--- Epoch 4/100 Validation Summary ---\n",
      "Validation BCE Loss: 0.251036\n",
      "Validation F1-score: 0.851500\n",
      "Validation Precision: 0.893239\n",
      "Validation Recall: 0.813487\n",
      "Validation ROC AUC: 0.848616\n",
      "Current Learning Rate: 0.000100\n",
      "New best model saved with validation ROC AUC: 0.848616\n"
     ]
    },
    {
     "name": "stderr",
     "output_type": "stream",
     "text": [
      "Epoch 5/100 (Train): 100%|██████████████████████████████| 2307/2307 [15:36<00:00,  2.46it/s, avg_loss=0.227, loss=0.227]\n"
     ]
    },
    {
     "name": "stdout",
     "output_type": "stream",
     "text": [
      "\n",
      "--- Epoch 5/100 Training Summary ---\n",
      "Train Average Loss (BCE): 0.226928\n",
      "Train F1-score: 0.853847\n",
      "Train Precision: 0.914579\n",
      "Train Recall: 0.800679\n",
      "Train ROC AUC: 0.894858\n"
     ]
    },
    {
     "name": "stderr",
     "output_type": "stream",
     "text": [
      "Validation: 100%|█████████████████████████████████████████████████████████████████████| 139/139 [00:04<00:00, 30.34it/s]\n"
     ]
    },
    {
     "name": "stdout",
     "output_type": "stream",
     "text": [
      "\n",
      "--- Epoch 5/100 Validation Summary ---\n",
      "Validation BCE Loss: 0.247030\n",
      "Validation F1-score: 0.851129\n",
      "Validation Precision: 0.897273\n",
      "Validation Recall: 0.809499\n",
      "Validation ROC AUC: 0.853197\n",
      "Current Learning Rate: 0.000100\n",
      "New best model saved with validation ROC AUC: 0.853197\n"
     ]
    },
    {
     "name": "stderr",
     "output_type": "stream",
     "text": [
      "Epoch 6/100 (Train): 100%|███████████████████████████████| 2307/2307 [15:33<00:00,  2.47it/s, avg_loss=0.222, loss=0.21]\n"
     ]
    },
    {
     "name": "stdout",
     "output_type": "stream",
     "text": [
      "\n",
      "--- Epoch 6/100 Training Summary ---\n",
      "Train Average Loss (BCE): 0.221827\n",
      "Train F1-score: 0.857820\n",
      "Train Precision: 0.918136\n",
      "Train Recall: 0.804941\n",
      "Train ROC AUC: 0.848215\n"
     ]
    },
    {
     "name": "stderr",
     "output_type": "stream",
     "text": [
      "Validation: 100%|█████████████████████████████████████████████████████████████████████| 139/139 [00:04<00:00, 28.27it/s]\n"
     ]
    },
    {
     "name": "stdout",
     "output_type": "stream",
     "text": [
      "\n",
      "--- Epoch 6/100 Validation Summary ---\n",
      "Validation BCE Loss: 0.243935\n",
      "Validation F1-score: 0.856277\n",
      "Validation Precision: 0.897637\n",
      "Validation Recall: 0.818559\n",
      "Validation ROC AUC: 0.856299\n",
      "Current Learning Rate: 0.000100\n",
      "New best model saved with validation ROC AUC: 0.856299\n"
     ]
    },
    {
     "name": "stderr",
     "output_type": "stream",
     "text": [
      "Epoch 7/100 (Train): 100%|██████████████████████████████| 2307/2307 [17:52<00:00,  2.15it/s, avg_loss=0.218, loss=0.226]\n"
     ]
    },
    {
     "name": "stdout",
     "output_type": "stream",
     "text": [
      "\n",
      "--- Epoch 7/100 Training Summary ---\n",
      "Train Average Loss (BCE): 0.218333\n",
      "Train F1-score: 0.860838\n",
      "Train Precision: 0.919930\n",
      "Train Recall: 0.808880\n",
      "Train ROC AUC: 0.904256\n"
     ]
    },
    {
     "name": "stderr",
     "output_type": "stream",
     "text": [
      "Validation: 100%|█████████████████████████████████████████████████████████████████████| 139/139 [00:04<00:00, 30.14it/s]\n"
     ]
    },
    {
     "name": "stdout",
     "output_type": "stream",
     "text": [
      "\n",
      "--- Epoch 7/100 Validation Summary ---\n",
      "Validation BCE Loss: 0.243211\n",
      "Validation F1-score: 0.853948\n",
      "Validation Precision: 0.897594\n",
      "Validation Recall: 0.814349\n",
      "Validation ROC AUC: 0.855003\n",
      "Current Learning Rate: 0.000100\n"
     ]
    },
    {
     "name": "stderr",
     "output_type": "stream",
     "text": [
      "Epoch 8/100 (Train): 100%|██████████████████████████████| 2307/2307 [15:51<00:00,  2.43it/s, avg_loss=0.216, loss=0.202]\n"
     ]
    },
    {
     "name": "stdout",
     "output_type": "stream",
     "text": [
      "\n",
      "--- Epoch 8/100 Training Summary ---\n",
      "Train Average Loss (BCE): 0.216030\n",
      "Train F1-score: 0.861295\n",
      "Train Precision: 0.921515\n",
      "Train Recall: 0.808462\n",
      "Train ROC AUC: 0.878916\n"
     ]
    },
    {
     "name": "stderr",
     "output_type": "stream",
     "text": [
      "Validation: 100%|█████████████████████████████████████████████████████████████████████| 139/139 [00:04<00:00, 29.61it/s]\n"
     ]
    },
    {
     "name": "stdout",
     "output_type": "stream",
     "text": [
      "\n",
      "--- Epoch 8/100 Validation Summary ---\n",
      "Validation BCE Loss: 0.240988\n",
      "Validation F1-score: 0.860593\n",
      "Validation Precision: 0.898082\n",
      "Validation Recall: 0.826109\n",
      "Validation ROC AUC: 0.860643\n",
      "Current Learning Rate: 0.000100\n",
      "New best model saved with validation ROC AUC: 0.860643\n"
     ]
    },
    {
     "name": "stderr",
     "output_type": "stream",
     "text": [
      "Epoch 9/100 (Train): 100%|██████████████████████████████| 2307/2307 [15:48<00:00,  2.43it/s, avg_loss=0.214, loss=0.202]\n"
     ]
    },
    {
     "name": "stdout",
     "output_type": "stream",
     "text": [
      "\n",
      "--- Epoch 9/100 Training Summary ---\n",
      "Train Average Loss (BCE): 0.213840\n",
      "Train F1-score: 0.863267\n",
      "Train Precision: 0.923095\n",
      "Train Recall: 0.810722\n",
      "Train ROC AUC: 0.894085\n"
     ]
    },
    {
     "name": "stderr",
     "output_type": "stream",
     "text": [
      "Validation: 100%|█████████████████████████████████████████████████████████████████████| 139/139 [00:11<00:00, 11.66it/s]\n"
     ]
    },
    {
     "name": "stdout",
     "output_type": "stream",
     "text": [
      "\n",
      "--- Epoch 9/100 Validation Summary ---\n",
      "Validation BCE Loss: 0.236854\n",
      "Validation F1-score: 0.861863\n",
      "Validation Precision: 0.898967\n",
      "Validation Recall: 0.827701\n",
      "Validation ROC AUC: 0.861128\n",
      "Current Learning Rate: 0.000100\n",
      "New best model saved with validation ROC AUC: 0.861128\n"
     ]
    },
    {
     "name": "stderr",
     "output_type": "stream",
     "text": [
      "Epoch 10/100 (Train): 100%|█████████████████████████████| 2307/2307 [15:30<00:00,  2.48it/s, avg_loss=0.212, loss=0.203]\n"
     ]
    },
    {
     "name": "stdout",
     "output_type": "stream",
     "text": [
      "\n",
      "--- Epoch 10/100 Training Summary ---\n",
      "Train Average Loss (BCE): 0.211532\n",
      "Train F1-score: 0.865469\n",
      "Train Precision: 0.924387\n",
      "Train Recall: 0.813611\n",
      "Train ROC AUC: 0.879383\n"
     ]
    },
    {
     "name": "stderr",
     "output_type": "stream",
     "text": [
      "Validation: 100%|█████████████████████████████████████████████████████████████████████| 139/139 [00:04<00:00, 30.37it/s]\n"
     ]
    },
    {
     "name": "stdout",
     "output_type": "stream",
     "text": [
      "\n",
      "--- Epoch 10/100 Validation Summary ---\n",
      "Validation BCE Loss: 0.235716\n",
      "Validation F1-score: 0.853877\n",
      "Validation Precision: 0.904623\n",
      "Validation Recall: 0.808522\n",
      "Validation ROC AUC: 0.864911\n",
      "Current Learning Rate: 0.000100\n",
      "New best model saved with validation ROC AUC: 0.864911\n"
     ]
    },
    {
     "name": "stderr",
     "output_type": "stream",
     "text": [
      "Epoch 11/100 (Train): 100%|██████████████████████████████| 2307/2307 [15:28<00:00,  2.48it/s, avg_loss=0.21, loss=0.218]\n"
     ]
    },
    {
     "name": "stdout",
     "output_type": "stream",
     "text": [
      "\n",
      "--- Epoch 11/100 Training Summary ---\n",
      "Train Average Loss (BCE): 0.209677\n",
      "Train F1-score: 0.867012\n",
      "Train Precision: 0.925582\n",
      "Train Recall: 0.815414\n",
      "Train ROC AUC: 0.910337\n"
     ]
    },
    {
     "name": "stderr",
     "output_type": "stream",
     "text": [
      "Validation: 100%|█████████████████████████████████████████████████████████████████████| 139/139 [00:07<00:00, 17.64it/s]\n"
     ]
    },
    {
     "name": "stdout",
     "output_type": "stream",
     "text": [
      "\n",
      "--- Epoch 11/100 Validation Summary ---\n",
      "Validation BCE Loss: 0.230741\n",
      "Validation F1-score: 0.851084\n",
      "Validation Precision: 0.908956\n",
      "Validation Recall: 0.800141\n",
      "Validation ROC AUC: 0.866510\n",
      "Current Learning Rate: 0.000100\n",
      "New best model saved with validation ROC AUC: 0.866510\n"
     ]
    },
    {
     "name": "stderr",
     "output_type": "stream",
     "text": [
      "Epoch 12/100 (Train): 100%|█████████████████████████████| 2307/2307 [15:33<00:00,  2.47it/s, avg_loss=0.208, loss=0.237]\n"
     ]
    },
    {
     "name": "stdout",
     "output_type": "stream",
     "text": [
      "\n",
      "--- Epoch 12/100 Training Summary ---\n",
      "Train Average Loss (BCE): 0.208302\n",
      "Train F1-score: 0.867787\n",
      "Train Precision: 0.926321\n",
      "Train Recall: 0.816210\n",
      "Train ROC AUC: 0.910250\n"
     ]
    },
    {
     "name": "stderr",
     "output_type": "stream",
     "text": [
      "Validation: 100%|█████████████████████████████████████████████████████████████████████| 139/139 [00:04<00:00, 31.05it/s]\n"
     ]
    },
    {
     "name": "stdout",
     "output_type": "stream",
     "text": [
      "\n",
      "--- Epoch 12/100 Validation Summary ---\n",
      "Validation BCE Loss: 0.226886\n",
      "Validation F1-score: 0.855080\n",
      "Validation Precision: 0.909577\n",
      "Validation Recall: 0.806745\n",
      "Validation ROC AUC: 0.868452\n",
      "Current Learning Rate: 0.000100\n",
      "New best model saved with validation ROC AUC: 0.868452\n"
     ]
    },
    {
     "name": "stderr",
     "output_type": "stream",
     "text": [
      "Epoch 13/100 (Train): 100%|█████████████████████████████| 2307/2307 [15:36<00:00,  2.46it/s, avg_loss=0.206, loss=0.245]\n"
     ]
    },
    {
     "name": "stdout",
     "output_type": "stream",
     "text": [
      "\n",
      "--- Epoch 13/100 Training Summary ---\n",
      "Train Average Loss (BCE): 0.205590\n",
      "Train F1-score: 0.871187\n",
      "Train Precision: 0.927006\n",
      "Train Recall: 0.821708\n",
      "Train ROC AUC: 0.834402\n"
     ]
    },
    {
     "name": "stderr",
     "output_type": "stream",
     "text": [
      "Validation: 100%|█████████████████████████████████████████████████████████████████████| 139/139 [00:04<00:00, 29.12it/s]\n"
     ]
    },
    {
     "name": "stdout",
     "output_type": "stream",
     "text": [
      "\n",
      "--- Epoch 13/100 Validation Summary ---\n",
      "Validation BCE Loss: 0.231113\n",
      "Validation F1-score: 0.862048\n",
      "Validation Precision: 0.905238\n",
      "Validation Recall: 0.822792\n",
      "Validation ROC AUC: 0.867988\n",
      "Current Learning Rate: 0.000100\n"
     ]
    },
    {
     "name": "stderr",
     "output_type": "stream",
     "text": [
      "Epoch 14/100 (Train): 100%|█████████████████████████████| 2307/2307 [15:29<00:00,  2.48it/s, avg_loss=0.205, loss=0.187]\n"
     ]
    },
    {
     "name": "stdout",
     "output_type": "stream",
     "text": [
      "\n",
      "--- Epoch 14/100 Training Summary ---\n",
      "Train Average Loss (BCE): 0.204940\n",
      "Train F1-score: 0.871607\n",
      "Train Precision: 0.927796\n",
      "Train Recall: 0.821836\n",
      "Train ROC AUC: 0.921194\n"
     ]
    },
    {
     "name": "stderr",
     "output_type": "stream",
     "text": [
      "Validation: 100%|█████████████████████████████████████████████████████████████████████| 139/139 [00:04<00:00, 29.37it/s]\n"
     ]
    },
    {
     "name": "stdout",
     "output_type": "stream",
     "text": [
      "\n",
      "--- Epoch 14/100 Validation Summary ---\n",
      "Validation BCE Loss: 0.230227\n",
      "Validation F1-score: 0.857924\n",
      "Validation Precision: 0.907425\n",
      "Validation Recall: 0.813545\n",
      "Validation ROC AUC: 0.871661\n",
      "Current Learning Rate: 0.000100\n",
      "New best model saved with validation ROC AUC: 0.871661\n"
     ]
    },
    {
     "name": "stderr",
     "output_type": "stream",
     "text": [
      "Epoch 15/100 (Train): 100%|██████████████████████████████| 2307/2307 [15:31<00:00,  2.48it/s, avg_loss=0.203, loss=0.31]\n"
     ]
    },
    {
     "name": "stdout",
     "output_type": "stream",
     "text": [
      "\n",
      "--- Epoch 15/100 Training Summary ---\n",
      "Train Average Loss (BCE): 0.203266\n",
      "Train F1-score: 0.873147\n",
      "Train Precision: 0.928713\n",
      "Train Recall: 0.823855\n",
      "Train ROC AUC: 0.925908\n"
     ]
    },
    {
     "name": "stderr",
     "output_type": "stream",
     "text": [
      "Validation: 100%|█████████████████████████████████████████████████████████████████████| 139/139 [00:07<00:00, 17.59it/s]\n"
     ]
    },
    {
     "name": "stdout",
     "output_type": "stream",
     "text": [
      "\n",
      "--- Epoch 15/100 Validation Summary ---\n",
      "Validation BCE Loss: 0.227705\n",
      "Validation F1-score: 0.851708\n",
      "Validation Precision: 0.910521\n",
      "Validation Recall: 0.800033\n",
      "Validation ROC AUC: 0.867787\n",
      "Current Learning Rate: 0.000100\n"
     ]
    },
    {
     "name": "stderr",
     "output_type": "stream",
     "text": [
      "Epoch 16/100 (Train): 100%|█████████████████████████████| 2307/2307 [15:37<00:00,  2.46it/s, avg_loss=0.201, loss=0.189]\n"
     ]
    },
    {
     "name": "stdout",
     "output_type": "stream",
     "text": [
      "\n",
      "--- Epoch 16/100 Training Summary ---\n",
      "Train Average Loss (BCE): 0.201232\n",
      "Train F1-score: 0.874694\n",
      "Train Precision: 0.929980\n",
      "Train Recall: 0.825613\n",
      "Train ROC AUC: 0.911144\n"
     ]
    },
    {
     "name": "stderr",
     "output_type": "stream",
     "text": [
      "Validation: 100%|█████████████████████████████████████████████████████████████████████| 139/139 [00:04<00:00, 29.92it/s]\n"
     ]
    },
    {
     "name": "stdout",
     "output_type": "stream",
     "text": [
      "\n",
      "--- Epoch 16/100 Validation Summary ---\n",
      "Validation BCE Loss: 0.228222\n",
      "Validation F1-score: 0.858147\n",
      "Validation Precision: 0.907581\n",
      "Validation Recall: 0.813821\n",
      "Validation ROC AUC: 0.873245\n",
      "Current Learning Rate: 0.000100\n",
      "New best model saved with validation ROC AUC: 0.873245\n"
     ]
    },
    {
     "name": "stderr",
     "output_type": "stream",
     "text": [
      "Epoch 17/100 (Train): 100%|█████████████████████████████| 2307/2307 [15:25<00:00,  2.49it/s, avg_loss=0.201, loss=0.214]\n"
     ]
    },
    {
     "name": "stdout",
     "output_type": "stream",
     "text": [
      "\n",
      "--- Epoch 17/100 Training Summary ---\n",
      "Train Average Loss (BCE): 0.200995\n",
      "Train F1-score: 0.874692\n",
      "Train Precision: 0.930294\n",
      "Train Recall: 0.825361\n",
      "Train ROC AUC: 0.909991\n"
     ]
    },
    {
     "name": "stderr",
     "output_type": "stream",
     "text": [
      "Validation: 100%|█████████████████████████████████████████████████████████████████████| 139/139 [00:04<00:00, 29.32it/s]\n"
     ]
    },
    {
     "name": "stdout",
     "output_type": "stream",
     "text": [
      "\n",
      "--- Epoch 17/100 Validation Summary ---\n",
      "Validation BCE Loss: 0.226912\n",
      "Validation F1-score: 0.863409\n",
      "Validation Precision: 0.908396\n",
      "Validation Recall: 0.822668\n",
      "Validation ROC AUC: 0.875880\n",
      "Current Learning Rate: 0.000100\n",
      "New best model saved with validation ROC AUC: 0.875880\n"
     ]
    },
    {
     "name": "stderr",
     "output_type": "stream",
     "text": [
      "Epoch 18/100 (Train): 100%|█████████████████████████████| 2307/2307 [15:27<00:00,  2.49it/s, avg_loss=0.199, loss=0.302]\n"
     ]
    },
    {
     "name": "stdout",
     "output_type": "stream",
     "text": [
      "\n",
      "--- Epoch 18/100 Training Summary ---\n",
      "Train Average Loss (BCE): 0.199322\n",
      "Train F1-score: 0.875988\n",
      "Train Precision: 0.930835\n",
      "Train Recall: 0.827244\n",
      "Train ROC AUC: 0.908363\n"
     ]
    },
    {
     "name": "stderr",
     "output_type": "stream",
     "text": [
      "Validation: 100%|█████████████████████████████████████████████████████████████████████| 139/139 [00:04<00:00, 30.51it/s]\n"
     ]
    },
    {
     "name": "stdout",
     "output_type": "stream",
     "text": [
      "\n",
      "--- Epoch 18/100 Validation Summary ---\n",
      "Validation BCE Loss: 0.232126\n",
      "Validation F1-score: 0.867489\n",
      "Validation Precision: 0.900451\n",
      "Validation Recall: 0.836854\n",
      "Validation ROC AUC: 0.869912\n",
      "Current Learning Rate: 0.000100\n"
     ]
    },
    {
     "name": "stderr",
     "output_type": "stream",
     "text": [
      "Epoch 19/100 (Train): 100%|█████████████████████████████| 2307/2307 [15:36<00:00,  2.46it/s, avg_loss=0.199, loss=0.174]\n"
     ]
    },
    {
     "name": "stdout",
     "output_type": "stream",
     "text": [
      "\n",
      "--- Epoch 19/100 Training Summary ---\n",
      "Train Average Loss (BCE): 0.198843\n",
      "Train F1-score: 0.876940\n",
      "Train Precision: 0.931102\n",
      "Train Recall: 0.828733\n",
      "Train ROC AUC: 0.886955\n"
     ]
    },
    {
     "name": "stderr",
     "output_type": "stream",
     "text": [
      "Validation: 100%|█████████████████████████████████████████████████████████████████████| 139/139 [00:04<00:00, 28.50it/s]\n"
     ]
    },
    {
     "name": "stdout",
     "output_type": "stream",
     "text": [
      "\n",
      "--- Epoch 19/100 Validation Summary ---\n",
      "Validation BCE Loss: 0.225060\n",
      "Validation F1-score: 0.867374\n",
      "Validation Precision: 0.906960\n",
      "Validation Recall: 0.831100\n",
      "Validation ROC AUC: 0.878506\n",
      "Current Learning Rate: 0.000100\n",
      "New best model saved with validation ROC AUC: 0.878506\n"
     ]
    },
    {
     "name": "stderr",
     "output_type": "stream",
     "text": [
      "Epoch 20/100 (Train): 100%|█████████████████████████████| 2307/2307 [15:31<00:00,  2.48it/s, avg_loss=0.197, loss=0.201]\n"
     ]
    },
    {
     "name": "stdout",
     "output_type": "stream",
     "text": [
      "\n",
      "--- Epoch 20/100 Training Summary ---\n",
      "Train Average Loss (BCE): 0.196877\n",
      "Train F1-score: 0.878856\n",
      "Train Precision: 0.932097\n",
      "Train Recall: 0.831369\n",
      "Train ROC AUC: 0.900867\n"
     ]
    },
    {
     "name": "stderr",
     "output_type": "stream",
     "text": [
      "Validation: 100%|█████████████████████████████████████████████████████████████████████| 139/139 [00:04<00:00, 30.00it/s]\n"
     ]
    },
    {
     "name": "stdout",
     "output_type": "stream",
     "text": [
      "\n",
      "--- Epoch 20/100 Validation Summary ---\n",
      "Validation BCE Loss: 0.221880\n",
      "Validation F1-score: 0.862966\n",
      "Validation Precision: 0.910545\n",
      "Validation Recall: 0.820112\n",
      "Validation ROC AUC: 0.878824\n",
      "Current Learning Rate: 0.000100\n",
      "New best model saved with validation ROC AUC: 0.878824\n"
     ]
    },
    {
     "name": "stderr",
     "output_type": "stream",
     "text": [
      "Epoch 21/100 (Train): 100%|█████████████████████████████| 2307/2307 [15:30<00:00,  2.48it/s, avg_loss=0.196, loss=0.175]\n"
     ]
    },
    {
     "name": "stdout",
     "output_type": "stream",
     "text": [
      "\n",
      "--- Epoch 21/100 Training Summary ---\n",
      "Train Average Loss (BCE): 0.195581\n",
      "Train F1-score: 0.879353\n",
      "Train Precision: 0.932912\n",
      "Train Recall: 0.831609\n",
      "Train ROC AUC: 0.887286\n"
     ]
    },
    {
     "name": "stderr",
     "output_type": "stream",
     "text": [
      "Validation: 100%|█████████████████████████████████████████████████████████████████████| 139/139 [00:04<00:00, 28.75it/s]\n"
     ]
    },
    {
     "name": "stdout",
     "output_type": "stream",
     "text": [
      "\n",
      "--- Epoch 21/100 Validation Summary ---\n",
      "Validation BCE Loss: 0.222323\n",
      "Validation F1-score: 0.866199\n",
      "Validation Precision: 0.908939\n",
      "Validation Recall: 0.827298\n",
      "Validation ROC AUC: 0.882260\n",
      "Current Learning Rate: 0.000100\n",
      "New best model saved with validation ROC AUC: 0.882260\n"
     ]
    },
    {
     "name": "stderr",
     "output_type": "stream",
     "text": [
      "Epoch 22/100 (Train): 100%|███████████████████████████████| 2307/2307 [21:23<00:00,  1.80it/s, avg_loss=0.195, loss=0.2]\n"
     ]
    },
    {
     "name": "stdout",
     "output_type": "stream",
     "text": [
      "\n",
      "--- Epoch 22/100 Training Summary ---\n",
      "Train Average Loss (BCE): 0.194962\n",
      "Train F1-score: 0.880189\n",
      "Train Precision: 0.932952\n",
      "Train Recall: 0.833075\n",
      "Train ROC AUC: 0.911413\n"
     ]
    },
    {
     "name": "stderr",
     "output_type": "stream",
     "text": [
      "Validation: 100%|█████████████████████████████████████████████████████████████████████| 139/139 [00:05<00:00, 27.07it/s]\n"
     ]
    },
    {
     "name": "stdout",
     "output_type": "stream",
     "text": [
      "\n",
      "--- Epoch 22/100 Validation Summary ---\n",
      "Validation BCE Loss: 0.221629\n",
      "Validation F1-score: 0.861810\n",
      "Validation Precision: 0.912288\n",
      "Validation Recall: 0.816625\n",
      "Validation ROC AUC: 0.880263\n",
      "Current Learning Rate: 0.000100\n"
     ]
    },
    {
     "name": "stderr",
     "output_type": "stream",
     "text": [
      "Epoch 23/100 (Train): 100%|█████████████████████████████| 2307/2307 [15:34<00:00,  2.47it/s, avg_loss=0.194, loss=0.178]\n"
     ]
    },
    {
     "name": "stdout",
     "output_type": "stream",
     "text": [
      "\n",
      "--- Epoch 23/100 Training Summary ---\n",
      "Train Average Loss (BCE): 0.193965\n",
      "Train F1-score: 0.880610\n",
      "Train Precision: 0.933839\n",
      "Train Recall: 0.833122\n",
      "Train ROC AUC: 0.872834\n"
     ]
    },
    {
     "name": "stderr",
     "output_type": "stream",
     "text": [
      "Validation: 100%|█████████████████████████████████████████████████████████████████████| 139/139 [00:05<00:00, 25.68it/s]\n"
     ]
    },
    {
     "name": "stdout",
     "output_type": "stream",
     "text": [
      "\n",
      "--- Epoch 23/100 Validation Summary ---\n",
      "Validation BCE Loss: 0.217607\n",
      "Validation F1-score: 0.866081\n",
      "Validation Precision: 0.910945\n",
      "Validation Recall: 0.825429\n",
      "Validation ROC AUC: 0.881979\n",
      "Current Learning Rate: 0.000100\n"
     ]
    },
    {
     "name": "stderr",
     "output_type": "stream",
     "text": [
      "Epoch 24/100 (Train): 100%|█████████████████████████████| 2307/2307 [17:14<00:00,  2.23it/s, avg_loss=0.193, loss=0.165]\n"
     ]
    },
    {
     "name": "stdout",
     "output_type": "stream",
     "text": [
      "\n",
      "--- Epoch 24/100 Training Summary ---\n",
      "Train Average Loss (BCE): 0.193394\n",
      "Train F1-score: 0.880477\n",
      "Train Precision: 0.934198\n",
      "Train Recall: 0.832599\n",
      "Train ROC AUC: 0.917160\n"
     ]
    },
    {
     "name": "stderr",
     "output_type": "stream",
     "text": [
      "Validation: 100%|█████████████████████████████████████████████████████████████████████| 139/139 [00:04<00:00, 31.24it/s]\n"
     ]
    },
    {
     "name": "stdout",
     "output_type": "stream",
     "text": [
      "\n",
      "--- Epoch 24/100 Validation Summary ---\n",
      "Validation BCE Loss: 0.220195\n",
      "Validation F1-score: 0.864699\n",
      "Validation Precision: 0.911153\n",
      "Validation Recall: 0.822752\n",
      "Validation ROC AUC: 0.878092\n",
      "Current Learning Rate: 0.000100\n"
     ]
    },
    {
     "name": "stderr",
     "output_type": "stream",
     "text": [
      "Epoch 25/100 (Train): 100%|█████████████████████████████| 2307/2307 [15:34<00:00,  2.47it/s, avg_loss=0.192, loss=0.188]\n"
     ]
    },
    {
     "name": "stdout",
     "output_type": "stream",
     "text": [
      "\n",
      "--- Epoch 25/100 Training Summary ---\n",
      "Train Average Loss (BCE): 0.192384\n",
      "Train F1-score: 0.881815\n",
      "Train Precision: 0.934466\n",
      "Train Recall: 0.834780\n",
      "Train ROC AUC: 0.922359\n"
     ]
    },
    {
     "name": "stderr",
     "output_type": "stream",
     "text": [
      "Validation: 100%|█████████████████████████████████████████████████████████████████████| 139/139 [00:05<00:00, 25.86it/s]\n"
     ]
    },
    {
     "name": "stdout",
     "output_type": "stream",
     "text": [
      "\n",
      "--- Epoch 25/100 Validation Summary ---\n",
      "Validation BCE Loss: 0.217271\n",
      "Validation F1-score: 0.863282\n",
      "Validation Precision: 0.914439\n",
      "Validation Recall: 0.817546\n",
      "Validation ROC AUC: 0.882111\n",
      "Current Learning Rate: 0.000100\n"
     ]
    },
    {
     "name": "stderr",
     "output_type": "stream",
     "text": [
      "Epoch 26/100 (Train): 100%|█████████████████████████████| 2307/2307 [16:09<00:00,  2.38it/s, avg_loss=0.191, loss=0.164]\n"
     ]
    },
    {
     "name": "stdout",
     "output_type": "stream",
     "text": [
      "\n",
      "--- Epoch 26/100 Training Summary ---\n",
      "Train Average Loss (BCE): 0.191263\n",
      "Train F1-score: 0.883110\n",
      "Train Precision: 0.935488\n",
      "Train Recall: 0.836287\n",
      "Train ROC AUC: 0.944465\n"
     ]
    },
    {
     "name": "stderr",
     "output_type": "stream",
     "text": [
      "Validation: 100%|█████████████████████████████████████████████████████████████████████| 139/139 [00:04<00:00, 27.86it/s]\n"
     ]
    },
    {
     "name": "stdout",
     "output_type": "stream",
     "text": [
      "\n",
      "--- Epoch 26/100 Validation Summary ---\n",
      "Validation BCE Loss: 0.218239\n",
      "Validation F1-score: 0.868180\n",
      "Validation Precision: 0.911367\n",
      "Validation Recall: 0.828901\n",
      "Validation ROC AUC: 0.881561\n",
      "Current Learning Rate: 0.000100\n"
     ]
    },
    {
     "name": "stderr",
     "output_type": "stream",
     "text": [
      "Epoch 27/100 (Train): 100%|██████████████████████████████| 2307/2307 [15:32<00:00,  2.47it/s, avg_loss=0.191, loss=0.17]\n"
     ]
    },
    {
     "name": "stdout",
     "output_type": "stream",
     "text": [
      "\n",
      "--- Epoch 27/100 Training Summary ---\n",
      "Train Average Loss (BCE): 0.190998\n",
      "Train F1-score: 0.883852\n",
      "Train Precision: 0.934839\n",
      "Train Recall: 0.838139\n",
      "Train ROC AUC: 0.936799\n"
     ]
    },
    {
     "name": "stderr",
     "output_type": "stream",
     "text": [
      "Validation: 100%|█████████████████████████████████████████████████████████████████████| 139/139 [00:04<00:00, 29.29it/s]\n"
     ]
    },
    {
     "name": "stdout",
     "output_type": "stream",
     "text": [
      "\n",
      "--- Epoch 27/100 Validation Summary ---\n",
      "Validation BCE Loss: 0.218293\n",
      "Validation F1-score: 0.873958\n",
      "Validation Precision: 0.907758\n",
      "Validation Recall: 0.842585\n",
      "Validation ROC AUC: 0.882702\n",
      "Current Learning Rate: 0.000100\n",
      "New best model saved with validation ROC AUC: 0.882702\n"
     ]
    },
    {
     "name": "stderr",
     "output_type": "stream",
     "text": [
      "Epoch 28/100 (Train): 100%|██████████████████████████████| 2307/2307 [15:27<00:00,  2.49it/s, avg_loss=0.191, loss=0.18]\n"
     ]
    },
    {
     "name": "stdout",
     "output_type": "stream",
     "text": [
      "\n",
      "--- Epoch 28/100 Training Summary ---\n",
      "Train Average Loss (BCE): 0.190556\n",
      "Train F1-score: 0.883237\n",
      "Train Precision: 0.935140\n",
      "Train Recall: 0.836792\n",
      "Train ROC AUC: 0.917158\n"
     ]
    },
    {
     "name": "stderr",
     "output_type": "stream",
     "text": [
      "Validation: 100%|█████████████████████████████████████████████████████████████████████| 139/139 [00:08<00:00, 16.35it/s]\n"
     ]
    },
    {
     "name": "stdout",
     "output_type": "stream",
     "text": [
      "\n",
      "--- Epoch 28/100 Validation Summary ---\n",
      "Validation BCE Loss: 0.219725\n",
      "Validation F1-score: 0.862718\n",
      "Validation Precision: 0.912299\n",
      "Validation Recall: 0.818247\n",
      "Validation ROC AUC: 0.884656\n",
      "Current Learning Rate: 0.000100\n",
      "New best model saved with validation ROC AUC: 0.884656\n"
     ]
    },
    {
     "name": "stderr",
     "output_type": "stream",
     "text": [
      "Epoch 29/100 (Train): 100%|██████████████████████████████| 2307/2307 [15:34<00:00,  2.47it/s, avg_loss=0.19, loss=0.182]\n"
     ]
    },
    {
     "name": "stdout",
     "output_type": "stream",
     "text": [
      "\n",
      "--- Epoch 29/100 Training Summary ---\n",
      "Train Average Loss (BCE): 0.190060\n",
      "Train F1-score: 0.883469\n",
      "Train Precision: 0.935738\n",
      "Train Recall: 0.836730\n",
      "Train ROC AUC: 0.911277\n"
     ]
    },
    {
     "name": "stderr",
     "output_type": "stream",
     "text": [
      "Validation: 100%|█████████████████████████████████████████████████████████████████████| 139/139 [00:04<00:00, 28.44it/s]\n"
     ]
    },
    {
     "name": "stdout",
     "output_type": "stream",
     "text": [
      "\n",
      "--- Epoch 29/100 Validation Summary ---\n",
      "Validation BCE Loss: 0.219757\n",
      "Validation F1-score: 0.873571\n",
      "Validation Precision: 0.907973\n",
      "Validation Recall: 0.841681\n",
      "Validation ROC AUC: 0.884936\n",
      "Current Learning Rate: 0.000100\n",
      "New best model saved with validation ROC AUC: 0.884936\n"
     ]
    },
    {
     "name": "stderr",
     "output_type": "stream",
     "text": [
      "Epoch 30/100 (Train): 100%|█████████████████████████████| 2307/2307 [15:30<00:00,  2.48it/s, avg_loss=0.189, loss=0.169]\n"
     ]
    },
    {
     "name": "stdout",
     "output_type": "stream",
     "text": [
      "\n",
      "--- Epoch 30/100 Training Summary ---\n",
      "Train Average Loss (BCE): 0.189128\n",
      "Train F1-score: 0.884056\n",
      "Train Precision: 0.936177\n",
      "Train Recall: 0.837433\n",
      "Train ROC AUC: 0.897980\n"
     ]
    },
    {
     "name": "stderr",
     "output_type": "stream",
     "text": [
      "Validation: 100%|█████████████████████████████████████████████████████████████████████| 139/139 [00:04<00:00, 28.54it/s]\n"
     ]
    },
    {
     "name": "stdout",
     "output_type": "stream",
     "text": [
      "\n",
      "--- Epoch 30/100 Validation Summary ---\n",
      "Validation BCE Loss: 0.221196\n",
      "Validation F1-score: 0.871546\n",
      "Validation Precision: 0.909488\n",
      "Validation Recall: 0.836644\n",
      "Validation ROC AUC: 0.884631\n",
      "Current Learning Rate: 0.000100\n"
     ]
    },
    {
     "name": "stderr",
     "output_type": "stream",
     "text": [
      "Epoch 31/100 (Train): 100%|█████████████████████████████| 2307/2307 [15:47<00:00,  2.43it/s, avg_loss=0.189, loss=0.229]\n"
     ]
    },
    {
     "name": "stdout",
     "output_type": "stream",
     "text": [
      "\n",
      "--- Epoch 31/100 Training Summary ---\n",
      "Train Average Loss (BCE): 0.188802\n",
      "Train F1-score: 0.884258\n",
      "Train Precision: 0.936263\n",
      "Train Recall: 0.837727\n",
      "Train ROC AUC: 0.896901\n"
     ]
    },
    {
     "name": "stderr",
     "output_type": "stream",
     "text": [
      "Validation: 100%|█████████████████████████████████████████████████████████████████████| 139/139 [00:05<00:00, 26.76it/s]\n"
     ]
    },
    {
     "name": "stdout",
     "output_type": "stream",
     "text": [
      "\n",
      "--- Epoch 31/100 Validation Summary ---\n",
      "Validation BCE Loss: 0.216248\n",
      "Validation F1-score: 0.870619\n",
      "Validation Precision: 0.911558\n",
      "Validation Recall: 0.833199\n",
      "Validation ROC AUC: 0.885716\n",
      "Current Learning Rate: 0.000100\n",
      "New best model saved with validation ROC AUC: 0.885716\n"
     ]
    },
    {
     "name": "stderr",
     "output_type": "stream",
     "text": [
      "Epoch 32/100 (Train): 100%|█████████████████████████████| 2307/2307 [15:32<00:00,  2.47it/s, avg_loss=0.189, loss=0.305]\n"
     ]
    },
    {
     "name": "stdout",
     "output_type": "stream",
     "text": [
      "\n",
      "--- Epoch 32/100 Training Summary ---\n",
      "Train Average Loss (BCE): 0.188569\n",
      "Train F1-score: 0.884386\n",
      "Train Precision: 0.936304\n",
      "Train Recall: 0.837923\n",
      "Train ROC AUC: 0.936300\n"
     ]
    },
    {
     "name": "stderr",
     "output_type": "stream",
     "text": [
      "Validation: 100%|█████████████████████████████████████████████████████████████████████| 139/139 [00:05<00:00, 26.60it/s]\n"
     ]
    },
    {
     "name": "stdout",
     "output_type": "stream",
     "text": [
      "\n",
      "--- Epoch 32/100 Validation Summary ---\n",
      "Validation BCE Loss: 0.217887\n",
      "Validation F1-score: 0.869543\n",
      "Validation Precision: 0.911503\n",
      "Validation Recall: 0.831277\n",
      "Validation ROC AUC: 0.888093\n",
      "Current Learning Rate: 0.000100\n",
      "New best model saved with validation ROC AUC: 0.888093\n"
     ]
    },
    {
     "name": "stderr",
     "output_type": "stream",
     "text": [
      "Epoch 33/100 (Train): 100%|█████████████████████████████| 2307/2307 [15:29<00:00,  2.48it/s, avg_loss=0.187, loss=0.169]\n"
     ]
    },
    {
     "name": "stdout",
     "output_type": "stream",
     "text": [
      "\n",
      "--- Epoch 33/100 Training Summary ---\n",
      "Train Average Loss (BCE): 0.187497\n",
      "Train F1-score: 0.885782\n",
      "Train Precision: 0.936605\n",
      "Train Recall: 0.840191\n",
      "Train ROC AUC: 0.903899\n"
     ]
    },
    {
     "name": "stderr",
     "output_type": "stream",
     "text": [
      "Validation: 100%|█████████████████████████████████████████████████████████████████████| 139/139 [00:05<00:00, 25.49it/s]\n"
     ]
    },
    {
     "name": "stdout",
     "output_type": "stream",
     "text": [
      "\n",
      "--- Epoch 33/100 Validation Summary ---\n",
      "Validation BCE Loss: 0.213441\n",
      "Validation F1-score: 0.870641\n",
      "Validation Precision: 0.912844\n",
      "Validation Recall: 0.832169\n",
      "Validation ROC AUC: 0.886234\n",
      "Current Learning Rate: 0.000100\n"
     ]
    },
    {
     "name": "stderr",
     "output_type": "stream",
     "text": [
      "Epoch 34/100 (Train): 100%|█████████████████████████████| 2307/2307 [15:29<00:00,  2.48it/s, avg_loss=0.187, loss=0.191]\n"
     ]
    },
    {
     "name": "stdout",
     "output_type": "stream",
     "text": [
      "\n",
      "--- Epoch 34/100 Training Summary ---\n",
      "Train Average Loss (BCE): 0.187045\n",
      "Train F1-score: 0.885658\n",
      "Train Precision: 0.936653\n",
      "Train Recall: 0.839929\n",
      "Train ROC AUC: 0.921977\n"
     ]
    },
    {
     "name": "stderr",
     "output_type": "stream",
     "text": [
      "Validation: 100%|█████████████████████████████████████████████████████████████████████| 139/139 [00:05<00:00, 26.51it/s]\n"
     ]
    },
    {
     "name": "stdout",
     "output_type": "stream",
     "text": [
      "\n",
      "--- Epoch 34/100 Validation Summary ---\n",
      "Validation BCE Loss: 0.217171\n",
      "Validation F1-score: 0.870349\n",
      "Validation Precision: 0.911691\n",
      "Validation Recall: 0.832594\n",
      "Validation ROC AUC: 0.887349\n",
      "Current Learning Rate: 0.000100\n"
     ]
    },
    {
     "name": "stderr",
     "output_type": "stream",
     "text": [
      "Epoch 35/100 (Train): 100%|██████████████████████████████| 2307/2307 [15:29<00:00,  2.48it/s, avg_loss=0.186, loss=0.17]\n"
     ]
    },
    {
     "name": "stdout",
     "output_type": "stream",
     "text": [
      "\n",
      "--- Epoch 35/100 Training Summary ---\n",
      "Train Average Loss (BCE): 0.185743\n",
      "Train F1-score: 0.886658\n",
      "Train Precision: 0.937753\n",
      "Train Recall: 0.840843\n",
      "Train ROC AUC: 0.946745\n"
     ]
    },
    {
     "name": "stderr",
     "output_type": "stream",
     "text": [
      "Validation: 100%|█████████████████████████████████████████████████████████████████████| 139/139 [00:05<00:00, 26.68it/s]\n"
     ]
    },
    {
     "name": "stdout",
     "output_type": "stream",
     "text": [
      "\n",
      "--- Epoch 35/100 Validation Summary ---\n",
      "Validation BCE Loss: 0.212262\n",
      "Validation F1-score: 0.863447\n",
      "Validation Precision: 0.918459\n",
      "Validation Recall: 0.814653\n",
      "Validation ROC AUC: 0.888645\n",
      "Current Learning Rate: 0.000100\n",
      "New best model saved with validation ROC AUC: 0.888645\n"
     ]
    },
    {
     "name": "stderr",
     "output_type": "stream",
     "text": [
      "Epoch 36/100 (Train): 100%|██████████████████████████████| 2307/2307 [16:12<00:00,  2.37it/s, avg_loss=0.186, loss=0.17]\n"
     ]
    },
    {
     "name": "stdout",
     "output_type": "stream",
     "text": [
      "\n",
      "--- Epoch 36/100 Training Summary ---\n",
      "Train Average Loss (BCE): 0.186080\n",
      "Train F1-score: 0.887321\n",
      "Train Precision: 0.937227\n",
      "Train Recall: 0.842461\n",
      "Train ROC AUC: 0.935609\n"
     ]
    },
    {
     "name": "stderr",
     "output_type": "stream",
     "text": [
      "Validation: 100%|█████████████████████████████████████████████████████████████████████| 139/139 [00:04<00:00, 28.94it/s]\n"
     ]
    },
    {
     "name": "stdout",
     "output_type": "stream",
     "text": [
      "\n",
      "--- Epoch 36/100 Validation Summary ---\n",
      "Validation BCE Loss: 0.213034\n",
      "Validation F1-score: 0.873204\n",
      "Validation Precision: 0.912298\n",
      "Validation Recall: 0.837322\n",
      "Validation ROC AUC: 0.888955\n",
      "Current Learning Rate: 0.000100\n",
      "New best model saved with validation ROC AUC: 0.888955\n"
     ]
    },
    {
     "name": "stderr",
     "output_type": "stream",
     "text": [
      "Epoch 37/100 (Train): 100%|█████████████████████████████| 2307/2307 [15:33<00:00,  2.47it/s, avg_loss=0.186, loss=0.213]\n"
     ]
    },
    {
     "name": "stdout",
     "output_type": "stream",
     "text": [
      "\n",
      "--- Epoch 37/100 Training Summary ---\n",
      "Train Average Loss (BCE): 0.185563\n",
      "Train F1-score: 0.887141\n",
      "Train Precision: 0.937702\n",
      "Train Recall: 0.841754\n",
      "Train ROC AUC: 0.938026\n"
     ]
    },
    {
     "name": "stderr",
     "output_type": "stream",
     "text": [
      "Validation: 100%|█████████████████████████████████████████████████████████████████████| 139/139 [00:05<00:00, 24.46it/s]\n"
     ]
    },
    {
     "name": "stdout",
     "output_type": "stream",
     "text": [
      "\n",
      "--- Epoch 37/100 Validation Summary ---\n",
      "Validation BCE Loss: 0.215042\n",
      "Validation F1-score: 0.870587\n",
      "Validation Precision: 0.913377\n",
      "Validation Recall: 0.831628\n",
      "Validation ROC AUC: 0.890612\n",
      "Current Learning Rate: 0.000100\n",
      "New best model saved with validation ROC AUC: 0.890612\n"
     ]
    },
    {
     "name": "stderr",
     "output_type": "stream",
     "text": [
      "Epoch 38/100 (Train): 100%|███████████████████████████████| 2307/2307 [15:31<00:00,  2.48it/s, avg_loss=0.184, loss=0.2]\n"
     ]
    },
    {
     "name": "stdout",
     "output_type": "stream",
     "text": [
      "\n",
      "--- Epoch 38/100 Training Summary ---\n",
      "Train Average Loss (BCE): 0.184297\n",
      "Train F1-score: 0.886898\n",
      "Train Precision: 0.938448\n",
      "Train Recall: 0.840717\n",
      "Train ROC AUC: 0.890323\n"
     ]
    },
    {
     "name": "stderr",
     "output_type": "stream",
     "text": [
      "Validation: 100%|█████████████████████████████████████████████████████████████████████| 139/139 [00:05<00:00, 25.90it/s]\n"
     ]
    },
    {
     "name": "stdout",
     "output_type": "stream",
     "text": [
      "\n",
      "--- Epoch 38/100 Validation Summary ---\n",
      "Validation BCE Loss: 0.213501\n",
      "Validation F1-score: 0.865703\n",
      "Validation Precision: 0.917388\n",
      "Validation Recall: 0.819531\n",
      "Validation ROC AUC: 0.891124\n",
      "Current Learning Rate: 0.000100\n",
      "New best model saved with validation ROC AUC: 0.891124\n"
     ]
    },
    {
     "name": "stderr",
     "output_type": "stream",
     "text": [
      "Epoch 39/100 (Train): 100%|█████████████████████████████| 2307/2307 [15:30<00:00,  2.48it/s, avg_loss=0.183, loss=0.203]\n"
     ]
    },
    {
     "name": "stdout",
     "output_type": "stream",
     "text": [
      "\n",
      "--- Epoch 39/100 Training Summary ---\n",
      "Train Average Loss (BCE): 0.183451\n",
      "Train F1-score: 0.888588\n",
      "Train Precision: 0.938552\n",
      "Train Recall: 0.843674\n",
      "Train ROC AUC: 0.928776\n"
     ]
    },
    {
     "name": "stderr",
     "output_type": "stream",
     "text": [
      "Validation: 100%|█████████████████████████████████████████████████████████████████████| 139/139 [00:04<00:00, 28.20it/s]\n"
     ]
    },
    {
     "name": "stdout",
     "output_type": "stream",
     "text": [
      "\n",
      "--- Epoch 39/100 Validation Summary ---\n",
      "Validation BCE Loss: 0.213609\n",
      "Validation F1-score: 0.868614\n",
      "Validation Precision: 0.912889\n",
      "Validation Recall: 0.828435\n",
      "Validation ROC AUC: 0.890984\n",
      "Current Learning Rate: 0.000100\n"
     ]
    },
    {
     "name": "stderr",
     "output_type": "stream",
     "text": [
      "Epoch 40/100 (Train): 100%|█████████████████████████████| 2307/2307 [15:29<00:00,  2.48it/s, avg_loss=0.184, loss=0.185]\n"
     ]
    },
    {
     "name": "stdout",
     "output_type": "stream",
     "text": [
      "\n",
      "--- Epoch 40/100 Training Summary ---\n",
      "Train Average Loss (BCE): 0.183996\n",
      "Train F1-score: 0.888286\n",
      "Train Precision: 0.938427\n",
      "Train Recall: 0.843230\n",
      "Train ROC AUC: 0.922040\n"
     ]
    },
    {
     "name": "stderr",
     "output_type": "stream",
     "text": [
      "Validation: 100%|█████████████████████████████████████████████████████████████████████| 139/139 [00:05<00:00, 26.83it/s]\n"
     ]
    },
    {
     "name": "stdout",
     "output_type": "stream",
     "text": [
      "\n",
      "--- Epoch 40/100 Validation Summary ---\n",
      "Validation BCE Loss: 0.211993\n",
      "Validation F1-score: 0.860622\n",
      "Validation Precision: 0.922454\n",
      "Validation Recall: 0.806560\n",
      "Validation ROC AUC: 0.884345\n",
      "Current Learning Rate: 0.000100\n"
     ]
    },
    {
     "name": "stderr",
     "output_type": "stream",
     "text": [
      "Epoch 41/100 (Train): 100%|█████████████████████████████| 2307/2307 [15:32<00:00,  2.47it/s, avg_loss=0.184, loss=0.202]\n"
     ]
    },
    {
     "name": "stdout",
     "output_type": "stream",
     "text": [
      "\n",
      "--- Epoch 41/100 Training Summary ---\n",
      "Train Average Loss (BCE): 0.183637\n",
      "Train F1-score: 0.888509\n",
      "Train Precision: 0.938553\n",
      "Train Recall: 0.843533\n",
      "Train ROC AUC: 0.932252\n"
     ]
    },
    {
     "name": "stderr",
     "output_type": "stream",
     "text": [
      "Validation: 100%|█████████████████████████████████████████████████████████████████████| 139/139 [00:05<00:00, 27.43it/s]\n"
     ]
    },
    {
     "name": "stdout",
     "output_type": "stream",
     "text": [
      "\n",
      "--- Epoch 41/100 Validation Summary ---\n",
      "Validation BCE Loss: 0.213617\n",
      "Validation F1-score: 0.868594\n",
      "Validation Precision: 0.915681\n",
      "Validation Recall: 0.826113\n",
      "Validation ROC AUC: 0.891510\n",
      "Current Learning Rate: 0.000100\n",
      "New best model saved with validation ROC AUC: 0.891510\n"
     ]
    },
    {
     "name": "stderr",
     "output_type": "stream",
     "text": [
      "Epoch 42/100 (Train): 100%|█████████████████████████████| 2307/2307 [17:40<00:00,  2.18it/s, avg_loss=0.183, loss=0.151]\n"
     ]
    },
    {
     "name": "stdout",
     "output_type": "stream",
     "text": [
      "\n",
      "--- Epoch 42/100 Training Summary ---\n",
      "Train Average Loss (BCE): 0.182517\n",
      "Train F1-score: 0.888686\n",
      "Train Precision: 0.939228\n",
      "Train Recall: 0.843307\n",
      "Train ROC AUC: 0.911115\n"
     ]
    },
    {
     "name": "stderr",
     "output_type": "stream",
     "text": [
      "Validation: 100%|█████████████████████████████████████████████████████████████████████| 139/139 [00:05<00:00, 25.44it/s]\n"
     ]
    },
    {
     "name": "stdout",
     "output_type": "stream",
     "text": [
      "\n",
      "--- Epoch 42/100 Validation Summary ---\n",
      "Validation BCE Loss: 0.209796\n",
      "Validation F1-score: 0.868598\n",
      "Validation Precision: 0.918421\n",
      "Validation Recall: 0.823903\n",
      "Validation ROC AUC: 0.888966\n",
      "Current Learning Rate: 0.000100\n"
     ]
    },
    {
     "name": "stderr",
     "output_type": "stream",
     "text": [
      "Epoch 43/100 (Train): 100%|█████████████████████████████| 2307/2307 [15:21<00:00,  2.50it/s, avg_loss=0.182, loss=0.189]\n"
     ]
    },
    {
     "name": "stdout",
     "output_type": "stream",
     "text": [
      "\n",
      "--- Epoch 43/100 Training Summary ---\n",
      "Train Average Loss (BCE): 0.182310\n",
      "Train F1-score: 0.889538\n",
      "Train Precision: 0.939075\n",
      "Train Recall: 0.844966\n",
      "Train ROC AUC: 0.903437\n"
     ]
    },
    {
     "name": "stderr",
     "output_type": "stream",
     "text": [
      "Validation: 100%|█████████████████████████████████████████████████████████████████████| 139/139 [00:05<00:00, 27.33it/s]\n"
     ]
    },
    {
     "name": "stdout",
     "output_type": "stream",
     "text": [
      "\n",
      "--- Epoch 43/100 Validation Summary ---\n",
      "Validation BCE Loss: 0.211761\n",
      "Validation F1-score: 0.863130\n",
      "Validation Precision: 0.923187\n",
      "Validation Recall: 0.810410\n",
      "Validation ROC AUC: 0.893674\n",
      "Current Learning Rate: 0.000100\n",
      "New best model saved with validation ROC AUC: 0.893674\n"
     ]
    },
    {
     "name": "stderr",
     "output_type": "stream",
     "text": [
      "Epoch 44/100 (Train): 100%|██████████████████████████████| 2307/2307 [15:26<00:00,  2.49it/s, avg_loss=0.182, loss=0.19]\n"
     ]
    },
    {
     "name": "stdout",
     "output_type": "stream",
     "text": [
      "\n",
      "--- Epoch 44/100 Training Summary ---\n",
      "Train Average Loss (BCE): 0.182145\n",
      "Train F1-score: 0.889550\n",
      "Train Precision: 0.939261\n",
      "Train Recall: 0.844836\n",
      "Train ROC AUC: 0.944680\n"
     ]
    },
    {
     "name": "stderr",
     "output_type": "stream",
     "text": [
      "Validation: 100%|█████████████████████████████████████████████████████████████████████| 139/139 [00:05<00:00, 25.68it/s]\n"
     ]
    },
    {
     "name": "stdout",
     "output_type": "stream",
     "text": [
      "\n",
      "--- Epoch 44/100 Validation Summary ---\n",
      "Validation BCE Loss: 0.211635\n",
      "Validation F1-score: 0.869242\n",
      "Validation Precision: 0.916665\n",
      "Validation Recall: 0.826484\n",
      "Validation ROC AUC: 0.888358\n",
      "Current Learning Rate: 0.000100\n"
     ]
    },
    {
     "name": "stderr",
     "output_type": "stream",
     "text": [
      "Epoch 45/100 (Train): 100%|█████████████████████████████| 2307/2307 [18:36<00:00,  2.07it/s, avg_loss=0.182, loss=0.178]\n"
     ]
    },
    {
     "name": "stdout",
     "output_type": "stream",
     "text": [
      "\n",
      "--- Epoch 45/100 Training Summary ---\n",
      "Train Average Loss (BCE): 0.181979\n",
      "Train F1-score: 0.889217\n",
      "Train Precision: 0.939331\n",
      "Train Recall: 0.844179\n",
      "Train ROC AUC: 0.936974\n"
     ]
    },
    {
     "name": "stderr",
     "output_type": "stream",
     "text": [
      "Validation: 100%|█████████████████████████████████████████████████████████████████████| 139/139 [00:05<00:00, 26.77it/s]\n"
     ]
    },
    {
     "name": "stdout",
     "output_type": "stream",
     "text": [
      "\n",
      "--- Epoch 45/100 Validation Summary ---\n",
      "Validation BCE Loss: 0.209377\n",
      "Validation F1-score: 0.867866\n",
      "Validation Precision: 0.919774\n",
      "Validation Recall: 0.821504\n",
      "Validation ROC AUC: 0.892765\n",
      "Current Learning Rate: 0.000100\n"
     ]
    },
    {
     "name": "stderr",
     "output_type": "stream",
     "text": [
      "Epoch 46/100 (Train): 100%|█████████████████████████████| 2307/2307 [15:28<00:00,  2.48it/s, avg_loss=0.181, loss=0.234]\n"
     ]
    },
    {
     "name": "stdout",
     "output_type": "stream",
     "text": [
      "\n",
      "--- Epoch 46/100 Training Summary ---\n",
      "Train Average Loss (BCE): 0.180874\n",
      "Train F1-score: 0.890326\n",
      "Train Precision: 0.940149\n",
      "Train Recall: 0.845518\n",
      "Train ROC AUC: 0.853690\n"
     ]
    },
    {
     "name": "stderr",
     "output_type": "stream",
     "text": [
      "Validation: 100%|█████████████████████████████████████████████████████████████████████| 139/139 [00:05<00:00, 25.34it/s]\n"
     ]
    },
    {
     "name": "stdout",
     "output_type": "stream",
     "text": [
      "\n",
      "--- Epoch 46/100 Validation Summary ---\n",
      "Validation BCE Loss: 0.210817\n",
      "Validation F1-score: 0.867493\n",
      "Validation Precision: 0.920285\n",
      "Validation Recall: 0.820429\n",
      "Validation ROC AUC: 0.893884\n",
      "Current Learning Rate: 0.000100\n",
      "New best model saved with validation ROC AUC: 0.893884\n"
     ]
    },
    {
     "name": "stderr",
     "output_type": "stream",
     "text": [
      "Epoch 47/100 (Train): 100%|█████████████████████████████| 2307/2307 [15:31<00:00,  2.48it/s, avg_loss=0.181, loss=0.205]\n"
     ]
    },
    {
     "name": "stdout",
     "output_type": "stream",
     "text": [
      "\n",
      "--- Epoch 47/100 Training Summary ---\n",
      "Train Average Loss (BCE): 0.181105\n",
      "Train F1-score: 0.890017\n",
      "Train Precision: 0.939857\n",
      "Train Recall: 0.845197\n",
      "Train ROC AUC: 0.937470\n"
     ]
    },
    {
     "name": "stderr",
     "output_type": "stream",
     "text": [
      "Validation: 100%|█████████████████████████████████████████████████████████████████████| 139/139 [00:05<00:00, 23.85it/s]\n"
     ]
    },
    {
     "name": "stdout",
     "output_type": "stream",
     "text": [
      "\n",
      "--- Epoch 47/100 Validation Summary ---\n",
      "Validation BCE Loss: 0.214503\n",
      "Validation F1-score: 0.867609\n",
      "Validation Precision: 0.916633\n",
      "Validation Recall: 0.823562\n",
      "Validation ROC AUC: 0.890294\n",
      "Current Learning Rate: 0.000100\n"
     ]
    },
    {
     "name": "stderr",
     "output_type": "stream",
     "text": [
      "Epoch 48/100 (Train): 100%|██████████████████████████████| 2307/2307 [15:26<00:00,  2.49it/s, avg_loss=0.18, loss=0.211]\n"
     ]
    },
    {
     "name": "stdout",
     "output_type": "stream",
     "text": [
      "\n",
      "--- Epoch 48/100 Training Summary ---\n",
      "Train Average Loss (BCE): 0.179701\n",
      "Train F1-score: 0.891642\n",
      "Train Precision: 0.939988\n",
      "Train Recall: 0.848025\n",
      "Train ROC AUC: 0.889924\n"
     ]
    },
    {
     "name": "stderr",
     "output_type": "stream",
     "text": [
      "Validation: 100%|█████████████████████████████████████████████████████████████████████| 139/139 [00:06<00:00, 22.56it/s]\n"
     ]
    },
    {
     "name": "stdout",
     "output_type": "stream",
     "text": [
      "\n",
      "--- Epoch 48/100 Validation Summary ---\n",
      "Validation BCE Loss: 0.211773\n",
      "Validation F1-score: 0.876560\n",
      "Validation Precision: 0.910485\n",
      "Validation Recall: 0.845071\n",
      "Validation ROC AUC: 0.894971\n",
      "Current Learning Rate: 0.000100\n",
      "New best model saved with validation ROC AUC: 0.894971\n"
     ]
    },
    {
     "name": "stderr",
     "output_type": "stream",
     "text": [
      "Epoch 49/100 (Train): 100%|██████████████████████████████| 2307/2307 [15:27<00:00,  2.49it/s, avg_loss=0.18, loss=0.146]\n"
     ]
    },
    {
     "name": "stdout",
     "output_type": "stream",
     "text": [
      "\n",
      "--- Epoch 49/100 Training Summary ---\n",
      "Train Average Loss (BCE): 0.179690\n",
      "Train F1-score: 0.891243\n",
      "Train Precision: 0.940405\n",
      "Train Recall: 0.846965\n",
      "Train ROC AUC: 0.926210\n"
     ]
    },
    {
     "name": "stderr",
     "output_type": "stream",
     "text": [
      "Validation: 100%|█████████████████████████████████████████████████████████████████████| 139/139 [00:04<00:00, 28.13it/s]\n"
     ]
    },
    {
     "name": "stdout",
     "output_type": "stream",
     "text": [
      "\n",
      "--- Epoch 49/100 Validation Summary ---\n",
      "Validation BCE Loss: 0.212412\n",
      "Validation F1-score: 0.877951\n",
      "Validation Precision: 0.910036\n",
      "Validation Recall: 0.848052\n",
      "Validation ROC AUC: 0.891025\n",
      "Current Learning Rate: 0.000100\n"
     ]
    },
    {
     "name": "stderr",
     "output_type": "stream",
     "text": [
      "Epoch 50/100 (Train): 100%|██████████████████████████████| 2307/2307 [16:10<00:00,  2.38it/s, avg_loss=0.18, loss=0.147]\n"
     ]
    },
    {
     "name": "stdout",
     "output_type": "stream",
     "text": [
      "\n",
      "--- Epoch 50/100 Training Summary ---\n",
      "Train Average Loss (BCE): 0.179573\n",
      "Train F1-score: 0.891243\n",
      "Train Precision: 0.940129\n",
      "Train Recall: 0.847190\n",
      "Train ROC AUC: 0.922129\n"
     ]
    },
    {
     "name": "stderr",
     "output_type": "stream",
     "text": [
      "Validation: 100%|█████████████████████████████████████████████████████████████████████| 139/139 [00:06<00:00, 21.68it/s]\n"
     ]
    },
    {
     "name": "stdout",
     "output_type": "stream",
     "text": [
      "\n",
      "--- Epoch 50/100 Validation Summary ---\n",
      "Validation BCE Loss: 0.209086\n",
      "Validation F1-score: 0.871661\n",
      "Validation Precision: 0.916941\n",
      "Validation Recall: 0.830643\n",
      "Validation ROC AUC: 0.890406\n",
      "Current Learning Rate: 0.000100\n"
     ]
    },
    {
     "name": "stderr",
     "output_type": "stream",
     "text": [
      "Epoch 51/100 (Train): 100%|█████████████████████████████| 2307/2307 [15:32<00:00,  2.47it/s, avg_loss=0.179, loss=0.174]\n"
     ]
    },
    {
     "name": "stdout",
     "output_type": "stream",
     "text": [
      "\n",
      "--- Epoch 51/100 Training Summary ---\n",
      "Train Average Loss (BCE): 0.178922\n",
      "Train F1-score: 0.891556\n",
      "Train Precision: 0.940509\n",
      "Train Recall: 0.847447\n",
      "Train ROC AUC: 0.920262\n"
     ]
    },
    {
     "name": "stderr",
     "output_type": "stream",
     "text": [
      "Validation: 100%|█████████████████████████████████████████████████████████████████████| 139/139 [00:05<00:00, 24.53it/s]\n"
     ]
    },
    {
     "name": "stdout",
     "output_type": "stream",
     "text": [
      "\n",
      "--- Epoch 51/100 Validation Summary ---\n",
      "Validation BCE Loss: 0.208989\n",
      "Validation F1-score: 0.875115\n",
      "Validation Precision: 0.915381\n",
      "Validation Recall: 0.838242\n",
      "Validation ROC AUC: 0.893226\n",
      "Current Learning Rate: 0.000100\n"
     ]
    },
    {
     "name": "stderr",
     "output_type": "stream",
     "text": [
      "Epoch 52/100 (Train): 100%|█████████████████████████████| 2307/2307 [15:33<00:00,  2.47it/s, avg_loss=0.179, loss=0.222]\n"
     ]
    },
    {
     "name": "stdout",
     "output_type": "stream",
     "text": [
      "\n",
      "--- Epoch 52/100 Training Summary ---\n",
      "Train Average Loss (BCE): 0.178592\n",
      "Train F1-score: 0.891484\n",
      "Train Precision: 0.940717\n",
      "Train Recall: 0.847148\n",
      "Train ROC AUC: 0.954563\n"
     ]
    },
    {
     "name": "stderr",
     "output_type": "stream",
     "text": [
      "Validation: 100%|█████████████████████████████████████████████████████████████████████| 139/139 [00:04<00:00, 29.10it/s]\n"
     ]
    },
    {
     "name": "stdout",
     "output_type": "stream",
     "text": [
      "\n",
      "--- Epoch 52/100 Validation Summary ---\n",
      "Validation BCE Loss: 0.208777\n",
      "Validation F1-score: 0.880889\n",
      "Validation Precision: 0.911528\n",
      "Validation Recall: 0.852242\n",
      "Validation ROC AUC: 0.894762\n",
      "Current Learning Rate: 0.000100\n"
     ]
    },
    {
     "name": "stderr",
     "output_type": "stream",
     "text": [
      "Epoch 53/100 (Train): 100%|██████████████████████████████| 2307/2307 [16:37<00:00,  2.31it/s, avg_loss=0.179, loss=0.17]\n"
     ]
    },
    {
     "name": "stdout",
     "output_type": "stream",
     "text": [
      "\n",
      "--- Epoch 53/100 Training Summary ---\n",
      "Train Average Loss (BCE): 0.178538\n",
      "Train F1-score: 0.891593\n",
      "Train Precision: 0.940733\n",
      "Train Recall: 0.847332\n",
      "Train ROC AUC: 0.939221\n"
     ]
    },
    {
     "name": "stderr",
     "output_type": "stream",
     "text": [
      "Validation: 100%|█████████████████████████████████████████████████████████████████████| 139/139 [00:05<00:00, 27.31it/s]\n"
     ]
    },
    {
     "name": "stdout",
     "output_type": "stream",
     "text": [
      "\n",
      "--- Epoch 53/100 Validation Summary ---\n",
      "Validation BCE Loss: 0.209643\n",
      "Validation F1-score: 0.868985\n",
      "Validation Precision: 0.919142\n",
      "Validation Recall: 0.824019\n",
      "Validation ROC AUC: 0.892296\n",
      "Current Learning Rate: 0.000100\n"
     ]
    },
    {
     "name": "stderr",
     "output_type": "stream",
     "text": [
      "Epoch 54/100 (Train): 100%|█████████████████████████████| 2307/2307 [15:27<00:00,  2.49it/s, avg_loss=0.178, loss=0.186]\n"
     ]
    },
    {
     "name": "stdout",
     "output_type": "stream",
     "text": [
      "\n",
      "--- Epoch 54/100 Training Summary ---\n",
      "Train Average Loss (BCE): 0.177642\n",
      "Train F1-score: 0.892121\n",
      "Train Precision: 0.941441\n",
      "Train Recall: 0.847711\n",
      "Train ROC AUC: 0.924162\n"
     ]
    },
    {
     "name": "stderr",
     "output_type": "stream",
     "text": [
      "Validation: 100%|█████████████████████████████████████████████████████████████████████| 139/139 [00:06<00:00, 22.65it/s]\n"
     ]
    },
    {
     "name": "stdout",
     "output_type": "stream",
     "text": [
      "\n",
      "--- Epoch 54/100 Validation Summary ---\n",
      "Validation BCE Loss: 0.209682\n",
      "Validation F1-score: 0.872648\n",
      "Validation Precision: 0.917186\n",
      "Validation Recall: 0.832235\n",
      "Validation ROC AUC: 0.896953\n",
      "Current Learning Rate: 0.000100\n",
      "New best model saved with validation ROC AUC: 0.896953\n"
     ]
    },
    {
     "name": "stderr",
     "output_type": "stream",
     "text": [
      "Epoch 55/100 (Train): 100%|█████████████████████████████| 2307/2307 [15:28<00:00,  2.49it/s, avg_loss=0.177, loss=0.142]\n"
     ]
    },
    {
     "name": "stdout",
     "output_type": "stream",
     "text": [
      "\n",
      "--- Epoch 55/100 Training Summary ---\n",
      "Train Average Loss (BCE): 0.177398\n",
      "Train F1-score: 0.893196\n",
      "Train Precision: 0.941359\n",
      "Train Recall: 0.849723\n",
      "Train ROC AUC: 0.949086\n"
     ]
    },
    {
     "name": "stderr",
     "output_type": "stream",
     "text": [
      "Validation: 100%|█████████████████████████████████████████████████████████████████████| 139/139 [00:05<00:00, 25.24it/s]\n"
     ]
    },
    {
     "name": "stdout",
     "output_type": "stream",
     "text": [
      "\n",
      "--- Epoch 55/100 Validation Summary ---\n",
      "Validation BCE Loss: 0.208889\n",
      "Validation F1-score: 0.869635\n",
      "Validation Precision: 0.918508\n",
      "Validation Recall: 0.825700\n",
      "Validation ROC AUC: 0.891811\n",
      "Current Learning Rate: 0.000100\n"
     ]
    },
    {
     "name": "stderr",
     "output_type": "stream",
     "text": [
      "Epoch 56/100 (Train): 100%|█████████████████████████████| 2307/2307 [15:23<00:00,  2.50it/s, avg_loss=0.177, loss=0.153]\n"
     ]
    },
    {
     "name": "stdout",
     "output_type": "stream",
     "text": [
      "\n",
      "--- Epoch 56/100 Training Summary ---\n",
      "Train Average Loss (BCE): 0.177112\n",
      "Train F1-score: 0.892765\n",
      "Train Precision: 0.941653\n",
      "Train Recall: 0.848703\n",
      "Train ROC AUC: 0.912961\n"
     ]
    },
    {
     "name": "stderr",
     "output_type": "stream",
     "text": [
      "Validation: 100%|█████████████████████████████████████████████████████████████████████| 139/139 [00:06<00:00, 22.29it/s]\n"
     ]
    },
    {
     "name": "stdout",
     "output_type": "stream",
     "text": [
      "\n",
      "--- Epoch 56/100 Validation Summary ---\n",
      "Validation BCE Loss: 0.210065\n",
      "Validation F1-score: 0.878353\n",
      "Validation Precision: 0.913743\n",
      "Validation Recall: 0.845603\n",
      "Validation ROC AUC: 0.890426\n",
      "Current Learning Rate: 0.000100\n"
     ]
    },
    {
     "name": "stderr",
     "output_type": "stream",
     "text": [
      "Epoch 57/100 (Train): 100%|█████████████████████████████| 2307/2307 [16:01<00:00,  2.40it/s, avg_loss=0.176, loss=0.154]\n"
     ]
    },
    {
     "name": "stdout",
     "output_type": "stream",
     "text": [
      "\n",
      "--- Epoch 57/100 Training Summary ---\n",
      "Train Average Loss (BCE): 0.176224\n",
      "Train F1-score: 0.893052\n",
      "Train Precision: 0.941946\n",
      "Train Recall: 0.848984\n",
      "Train ROC AUC: 0.922680\n"
     ]
    },
    {
     "name": "stderr",
     "output_type": "stream",
     "text": [
      "Validation: 100%|█████████████████████████████████████████████████████████████████████| 139/139 [00:04<00:00, 28.61it/s]\n"
     ]
    },
    {
     "name": "stdout",
     "output_type": "stream",
     "text": [
      "\n",
      "--- Epoch 57/100 Validation Summary ---\n",
      "Validation BCE Loss: 0.209753\n",
      "Validation F1-score: 0.880245\n",
      "Validation Precision: 0.912359\n",
      "Validation Recall: 0.850314\n",
      "Validation ROC AUC: 0.893343\n",
      "Current Learning Rate: 0.000100\n"
     ]
    },
    {
     "name": "stderr",
     "output_type": "stream",
     "text": [
      "Epoch 58/100 (Train): 100%|█████████████████████████████| 2307/2307 [15:31<00:00,  2.48it/s, avg_loss=0.177, loss=0.198]\n"
     ]
    },
    {
     "name": "stdout",
     "output_type": "stream",
     "text": [
      "\n",
      "--- Epoch 58/100 Training Summary ---\n",
      "Train Average Loss (BCE): 0.176605\n",
      "Train F1-score: 0.893047\n",
      "Train Precision: 0.941490\n",
      "Train Recall: 0.849345\n",
      "Train ROC AUC: 0.938309\n"
     ]
    },
    {
     "name": "stderr",
     "output_type": "stream",
     "text": [
      "Validation: 100%|█████████████████████████████████████████████████████████████████████| 139/139 [00:06<00:00, 21.12it/s]\n"
     ]
    },
    {
     "name": "stdout",
     "output_type": "stream",
     "text": [
      "\n",
      "--- Epoch 58/100 Validation Summary ---\n",
      "Validation BCE Loss: 0.207430\n",
      "Validation F1-score: 0.868426\n",
      "Validation Precision: 0.919709\n",
      "Validation Recall: 0.822560\n",
      "Validation ROC AUC: 0.888955\n",
      "Current Learning Rate: 0.000100\n"
     ]
    },
    {
     "name": "stderr",
     "output_type": "stream",
     "text": [
      "Epoch 59/100 (Train): 100%|█████████████████████████████| 2307/2307 [17:01<00:00,  2.26it/s, avg_loss=0.176, loss=0.199]\n"
     ]
    },
    {
     "name": "stdout",
     "output_type": "stream",
     "text": [
      "\n",
      "--- Epoch 59/100 Training Summary ---\n",
      "Train Average Loss (BCE): 0.176460\n",
      "Train F1-score: 0.892835\n",
      "Train Precision: 0.941807\n",
      "Train Recall: 0.848704\n",
      "Train ROC AUC: 0.929384\n"
     ]
    },
    {
     "name": "stderr",
     "output_type": "stream",
     "text": [
      "Validation: 100%|█████████████████████████████████████████████████████████████████████| 139/139 [00:05<00:00, 27.10it/s]\n"
     ]
    },
    {
     "name": "stdout",
     "output_type": "stream",
     "text": [
      "\n",
      "--- Epoch 59/100 Validation Summary ---\n",
      "Validation BCE Loss: 0.206618\n",
      "Validation F1-score: 0.868713\n",
      "Validation Precision: 0.920523\n",
      "Validation Recall: 0.822424\n",
      "Validation ROC AUC: 0.887749\n",
      "Current Learning Rate: 0.000100\n"
     ]
    },
    {
     "name": "stderr",
     "output_type": "stream",
     "text": [
      "Epoch 60/100 (Train): 100%|█████████████████████████████| 2307/2307 [15:28<00:00,  2.48it/s, avg_loss=0.176, loss=0.136]\n"
     ]
    },
    {
     "name": "stdout",
     "output_type": "stream",
     "text": [
      "\n",
      "--- Epoch 60/100 Training Summary ---\n",
      "Train Average Loss (BCE): 0.175706\n",
      "Train F1-score: 0.893521\n",
      "Train Precision: 0.942089\n",
      "Train Recall: 0.849715\n",
      "Train ROC AUC: 0.937886\n"
     ]
    },
    {
     "name": "stderr",
     "output_type": "stream",
     "text": [
      "Validation: 100%|█████████████████████████████████████████████████████████████████████| 139/139 [00:04<00:00, 30.39it/s]\n"
     ]
    },
    {
     "name": "stdout",
     "output_type": "stream",
     "text": [
      "\n",
      "--- Epoch 60/100 Validation Summary ---\n",
      "Validation BCE Loss: 0.205094\n",
      "Validation F1-score: 0.872558\n",
      "Validation Precision: 0.919967\n",
      "Validation Recall: 0.829796\n",
      "Validation ROC AUC: 0.896592\n",
      "Current Learning Rate: 0.000100\n"
     ]
    },
    {
     "name": "stderr",
     "output_type": "stream",
     "text": [
      "Epoch 61/100 (Train): 100%|█████████████████████████████| 2307/2307 [15:26<00:00,  2.49it/s, avg_loss=0.175, loss=0.143]\n"
     ]
    },
    {
     "name": "stdout",
     "output_type": "stream",
     "text": [
      "\n",
      "--- Epoch 61/100 Training Summary ---\n",
      "Train Average Loss (BCE): 0.175267\n",
      "Train F1-score: 0.894040\n",
      "Train Precision: 0.942470\n",
      "Train Recall: 0.850344\n",
      "Train ROC AUC: 0.938170\n"
     ]
    },
    {
     "name": "stderr",
     "output_type": "stream",
     "text": [
      "Validation: 100%|█████████████████████████████████████████████████████████████████████| 139/139 [00:06<00:00, 20.99it/s]\n"
     ]
    },
    {
     "name": "stdout",
     "output_type": "stream",
     "text": [
      "\n",
      "--- Epoch 61/100 Validation Summary ---\n",
      "Validation BCE Loss: 0.206645\n",
      "Validation F1-score: 0.874584\n",
      "Validation Precision: 0.916959\n",
      "Validation Recall: 0.835952\n",
      "Validation ROC AUC: 0.891710\n",
      "Current Learning Rate: 0.000100\n"
     ]
    },
    {
     "name": "stderr",
     "output_type": "stream",
     "text": [
      "Epoch 62/100 (Train): 100%|██████████████████████████████| 2307/2307 [16:43<00:00,  2.30it/s, avg_loss=0.175, loss=0.19]\n"
     ]
    },
    {
     "name": "stdout",
     "output_type": "stream",
     "text": [
      "\n",
      "--- Epoch 62/100 Training Summary ---\n",
      "Train Average Loss (BCE): 0.175030\n",
      "Train F1-score: 0.894199\n",
      "Train Precision: 0.942319\n",
      "Train Recall: 0.850755\n",
      "Train ROC AUC: 0.933417\n"
     ]
    },
    {
     "name": "stderr",
     "output_type": "stream",
     "text": [
      "Validation: 100%|█████████████████████████████████████████████████████████████████████| 139/139 [00:05<00:00, 26.55it/s]\n"
     ]
    },
    {
     "name": "stdout",
     "output_type": "stream",
     "text": [
      "\n",
      "--- Epoch 62/100 Validation Summary ---\n",
      "Validation BCE Loss: 0.208889\n",
      "Validation F1-score: 0.879875\n",
      "Validation Precision: 0.913409\n",
      "Validation Recall: 0.848716\n",
      "Validation ROC AUC: 0.890652\n",
      "Current Learning Rate: 0.000100\n"
     ]
    },
    {
     "name": "stderr",
     "output_type": "stream",
     "text": [
      "Epoch 63/100 (Train): 100%|██████████████████████████████| 2307/2307 [15:28<00:00,  2.48it/s, avg_loss=0.175, loss=0.12]\n"
     ]
    },
    {
     "name": "stdout",
     "output_type": "stream",
     "text": [
      "\n",
      "--- Epoch 63/100 Training Summary ---\n",
      "Train Average Loss (BCE): 0.174595\n",
      "Train F1-score: 0.894288\n",
      "Train Precision: 0.942739\n",
      "Train Recall: 0.850574\n",
      "Train ROC AUC: 0.940671\n"
     ]
    },
    {
     "name": "stderr",
     "output_type": "stream",
     "text": [
      "Validation: 100%|█████████████████████████████████████████████████████████████████████| 139/139 [00:06<00:00, 22.07it/s]\n"
     ]
    },
    {
     "name": "stdout",
     "output_type": "stream",
     "text": [
      "\n",
      "--- Epoch 63/100 Validation Summary ---\n",
      "Validation BCE Loss: 0.206368\n",
      "Validation F1-score: 0.875033\n",
      "Validation Precision: 0.918897\n",
      "Validation Recall: 0.835167\n",
      "Validation ROC AUC: 0.893251\n",
      "Current Learning Rate: 0.000100\n"
     ]
    },
    {
     "name": "stderr",
     "output_type": "stream",
     "text": [
      "Epoch 64/100 (Train): 100%|█████████████████████████████| 2307/2307 [17:46<00:00,  2.16it/s, avg_loss=0.175, loss=0.178]\n"
     ]
    },
    {
     "name": "stdout",
     "output_type": "stream",
     "text": [
      "\n",
      "--- Epoch 64/100 Training Summary ---\n",
      "Train Average Loss (BCE): 0.174592\n",
      "Train F1-score: 0.894120\n",
      "Train Precision: 0.942577\n",
      "Train Recall: 0.850401\n",
      "Train ROC AUC: 0.939871\n"
     ]
    },
    {
     "name": "stderr",
     "output_type": "stream",
     "text": [
      "Validation: 100%|█████████████████████████████████████████████████████████████████████| 139/139 [00:04<00:00, 28.03it/s]\n"
     ]
    },
    {
     "name": "stdout",
     "output_type": "stream",
     "text": [
      "\n",
      "--- Epoch 64/100 Validation Summary ---\n",
      "Validation BCE Loss: 0.205363\n",
      "Validation F1-score: 0.878896\n",
      "Validation Precision: 0.914945\n",
      "Validation Recall: 0.845579\n",
      "Validation ROC AUC: 0.899280\n",
      "Current Learning Rate: 0.000100\n",
      "New best model saved with validation ROC AUC: 0.899280\n"
     ]
    },
    {
     "name": "stderr",
     "output_type": "stream",
     "text": [
      "Epoch 65/100 (Train): 100%|██████████████████████████████| 2307/2307 [16:06<00:00,  2.39it/s, avg_loss=0.174, loss=0.16]\n"
     ]
    },
    {
     "name": "stdout",
     "output_type": "stream",
     "text": [
      "\n",
      "--- Epoch 65/100 Training Summary ---\n",
      "Train Average Loss (BCE): 0.173792\n",
      "Train F1-score: 0.895091\n",
      "Train Precision: 0.942904\n",
      "Train Recall: 0.851892\n",
      "Train ROC AUC: 0.922635\n"
     ]
    },
    {
     "name": "stderr",
     "output_type": "stream",
     "text": [
      "Validation: 100%|█████████████████████████████████████████████████████████████████████| 139/139 [00:05<00:00, 25.70it/s]\n"
     ]
    },
    {
     "name": "stdout",
     "output_type": "stream",
     "text": [
      "\n",
      "--- Epoch 65/100 Validation Summary ---\n",
      "Validation BCE Loss: 0.211395\n",
      "Validation F1-score: 0.861794\n",
      "Validation Precision: 0.919622\n",
      "Validation Recall: 0.810808\n",
      "Validation ROC AUC: 0.883569\n",
      "Current Learning Rate: 0.000100\n"
     ]
    },
    {
     "name": "stderr",
     "output_type": "stream",
     "text": [
      "Epoch 66/100 (Train): 100%|███████████████████████████████| 2307/2307 [15:28<00:00,  2.49it/s, avg_loss=0.174, loss=0.2]\n"
     ]
    },
    {
     "name": "stdout",
     "output_type": "stream",
     "text": [
      "\n",
      "--- Epoch 66/100 Training Summary ---\n",
      "Train Average Loss (BCE): 0.174020\n",
      "Train F1-score: 0.894418\n",
      "Train Precision: 0.942714\n",
      "Train Recall: 0.850829\n",
      "Train ROC AUC: 0.914093\n"
     ]
    },
    {
     "name": "stderr",
     "output_type": "stream",
     "text": [
      "Validation: 100%|█████████████████████████████████████████████████████████████████████| 139/139 [00:06<00:00, 20.69it/s]\n"
     ]
    },
    {
     "name": "stdout",
     "output_type": "stream",
     "text": [
      "\n",
      "--- Epoch 66/100 Validation Summary ---\n",
      "Validation BCE Loss: 0.207821\n",
      "Validation F1-score: 0.883467\n",
      "Validation Precision: 0.910875\n",
      "Validation Recall: 0.857660\n",
      "Validation ROC AUC: 0.894395\n",
      "Current Learning Rate: 0.000100\n"
     ]
    },
    {
     "name": "stderr",
     "output_type": "stream",
     "text": [
      "Epoch 67/100 (Train): 100%|█████████████████████████████| 2307/2307 [15:23<00:00,  2.50it/s, avg_loss=0.172, loss=0.133]\n"
     ]
    },
    {
     "name": "stdout",
     "output_type": "stream",
     "text": [
      "\n",
      "--- Epoch 67/100 Training Summary ---\n",
      "Train Average Loss (BCE): 0.172461\n",
      "Train F1-score: 0.895915\n",
      "Train Precision: 0.943485\n",
      "Train Recall: 0.852912\n",
      "Train ROC AUC: 0.918121\n"
     ]
    },
    {
     "name": "stderr",
     "output_type": "stream",
     "text": [
      "Validation: 100%|█████████████████████████████████████████████████████████████████████| 139/139 [00:06<00:00, 20.68it/s]\n"
     ]
    },
    {
     "name": "stdout",
     "output_type": "stream",
     "text": [
      "\n",
      "--- Epoch 67/100 Validation Summary ---\n",
      "Validation BCE Loss: 0.207459\n",
      "Validation F1-score: 0.880733\n",
      "Validation Precision: 0.914159\n",
      "Validation Recall: 0.849665\n",
      "Validation ROC AUC: 0.891400\n",
      "Current Learning Rate: 0.000100\n"
     ]
    },
    {
     "name": "stderr",
     "output_type": "stream",
     "text": [
      "Epoch 68/100 (Train): 100%|█████████████████████████████| 2307/2307 [15:27<00:00,  2.49it/s, avg_loss=0.173, loss=0.168]\n"
     ]
    },
    {
     "name": "stdout",
     "output_type": "stream",
     "text": [
      "\n",
      "--- Epoch 68/100 Training Summary ---\n",
      "Train Average Loss (BCE): 0.173357\n",
      "Train F1-score: 0.895080\n",
      "Train Precision: 0.942707\n",
      "Train Recall: 0.852034\n",
      "Train ROC AUC: 0.906531\n"
     ]
    },
    {
     "name": "stderr",
     "output_type": "stream",
     "text": [
      "Validation: 100%|█████████████████████████████████████████████████████████████████████| 139/139 [00:06<00:00, 21.85it/s]\n"
     ]
    },
    {
     "name": "stdout",
     "output_type": "stream",
     "text": [
      "\n",
      "--- Epoch 68/100 Validation Summary ---\n",
      "Validation BCE Loss: 0.210778\n",
      "Validation F1-score: 0.879460\n",
      "Validation Precision: 0.914294\n",
      "Validation Recall: 0.847183\n",
      "Validation ROC AUC: 0.890275\n",
      "Current Learning Rate: 0.000100\n"
     ]
    },
    {
     "name": "stderr",
     "output_type": "stream",
     "text": [
      "Epoch 69/100 (Train): 100%|█████████████████████████████| 2307/2307 [15:27<00:00,  2.49it/s, avg_loss=0.173, loss=0.212]\n"
     ]
    },
    {
     "name": "stdout",
     "output_type": "stream",
     "text": [
      "\n",
      "--- Epoch 69/100 Training Summary ---\n",
      "Train Average Loss (BCE): 0.172662\n",
      "Train F1-score: 0.895081\n",
      "Train Precision: 0.943637\n",
      "Train Recall: 0.851277\n",
      "Train ROC AUC: 0.914009\n"
     ]
    },
    {
     "name": "stderr",
     "output_type": "stream",
     "text": [
      "Validation: 100%|█████████████████████████████████████████████████████████████████████| 139/139 [00:05<00:00, 27.59it/s]\n"
     ]
    },
    {
     "name": "stdout",
     "output_type": "stream",
     "text": [
      "\n",
      "--- Epoch 69/100 Validation Summary ---\n",
      "Validation BCE Loss: 0.211411\n",
      "Validation F1-score: 0.868147\n",
      "Validation Precision: 0.918178\n",
      "Validation Recall: 0.823287\n",
      "Validation ROC AUC: 0.888636\n",
      "Current Learning Rate: 0.000100\n"
     ]
    },
    {
     "name": "stderr",
     "output_type": "stream",
     "text": [
      "Epoch 70/100 (Train): 100%|█████████████████████████████| 2307/2307 [15:25<00:00,  2.49it/s, avg_loss=0.173, loss=0.157]\n"
     ]
    },
    {
     "name": "stdout",
     "output_type": "stream",
     "text": [
      "\n",
      "--- Epoch 70/100 Training Summary ---\n",
      "Train Average Loss (BCE): 0.172614\n",
      "Train F1-score: 0.895557\n",
      "Train Precision: 0.943179\n",
      "Train Recall: 0.852513\n",
      "Train ROC AUC: 0.942385\n"
     ]
    },
    {
     "name": "stderr",
     "output_type": "stream",
     "text": [
      "Validation: 100%|█████████████████████████████████████████████████████████████████████| 139/139 [00:05<00:00, 25.60it/s]\n"
     ]
    },
    {
     "name": "stdout",
     "output_type": "stream",
     "text": [
      "\n",
      "--- Epoch 70/100 Validation Summary ---\n",
      "Validation BCE Loss: 0.211318\n",
      "Validation F1-score: 0.873996\n",
      "Validation Precision: 0.912989\n",
      "Validation Recall: 0.838197\n",
      "Validation ROC AUC: 0.883366\n",
      "Current Learning Rate: 0.000100\n"
     ]
    },
    {
     "name": "stderr",
     "output_type": "stream",
     "text": [
      "Epoch 71/100 (Train): 100%|█████████████████████████████| 2307/2307 [15:28<00:00,  2.48it/s, avg_loss=0.172, loss=0.172]\n"
     ]
    },
    {
     "name": "stdout",
     "output_type": "stream",
     "text": [
      "\n",
      "--- Epoch 71/100 Training Summary ---\n",
      "Train Average Loss (BCE): 0.171576\n",
      "Train F1-score: 0.896230\n",
      "Train Precision: 0.943487\n",
      "Train Recall: 0.853481\n",
      "Train ROC AUC: 0.940173\n"
     ]
    },
    {
     "name": "stderr",
     "output_type": "stream",
     "text": [
      "Validation: 100%|█████████████████████████████████████████████████████████████████████| 139/139 [00:05<00:00, 26.57it/s]\n"
     ]
    },
    {
     "name": "stdout",
     "output_type": "stream",
     "text": [
      "\n",
      "--- Epoch 71/100 Validation Summary ---\n",
      "Validation BCE Loss: 0.208322\n",
      "Validation F1-score: 0.870390\n",
      "Validation Precision: 0.917353\n",
      "Validation Recall: 0.828002\n",
      "Validation ROC AUC: 0.887789\n",
      "Current Learning Rate: 0.000100\n"
     ]
    },
    {
     "name": "stderr",
     "output_type": "stream",
     "text": [
      "Epoch 72/100 (Train): 100%|██████████████████████████████| 2307/2307 [15:28<00:00,  2.49it/s, avg_loss=0.171, loss=0.14]\n"
     ]
    },
    {
     "name": "stdout",
     "output_type": "stream",
     "text": [
      "\n",
      "--- Epoch 72/100 Training Summary ---\n",
      "Train Average Loss (BCE): 0.171396\n",
      "Train F1-score: 0.896480\n",
      "Train Precision: 0.943829\n",
      "Train Recall: 0.853654\n",
      "Train ROC AUC: 0.945941\n"
     ]
    },
    {
     "name": "stderr",
     "output_type": "stream",
     "text": [
      "Validation: 100%|█████████████████████████████████████████████████████████████████████| 139/139 [00:05<00:00, 27.16it/s]\n"
     ]
    },
    {
     "name": "stdout",
     "output_type": "stream",
     "text": [
      "\n",
      "--- Epoch 72/100 Validation Summary ---\n",
      "Validation BCE Loss: 0.215969\n",
      "Validation F1-score: 0.850976\n",
      "Validation Precision: 0.923172\n",
      "Validation Recall: 0.789254\n",
      "Validation ROC AUC: 0.881197\n",
      "Current Learning Rate: 0.000100\n"
     ]
    },
    {
     "name": "stderr",
     "output_type": "stream",
     "text": [
      "Epoch 73/100 (Train): 100%|█████████████████████████████| 2307/2307 [15:29<00:00,  2.48it/s, avg_loss=0.171, loss=0.204]\n"
     ]
    },
    {
     "name": "stdout",
     "output_type": "stream",
     "text": [
      "\n",
      "--- Epoch 73/100 Training Summary ---\n",
      "Train Average Loss (BCE): 0.171488\n",
      "Train F1-score: 0.896144\n",
      "Train Precision: 0.943993\n",
      "Train Recall: 0.852912\n",
      "Train ROC AUC: 0.943962\n"
     ]
    },
    {
     "name": "stderr",
     "output_type": "stream",
     "text": [
      "Validation: 100%|█████████████████████████████████████████████████████████████████████| 139/139 [00:04<00:00, 28.45it/s]\n"
     ]
    },
    {
     "name": "stdout",
     "output_type": "stream",
     "text": [
      "\n",
      "--- Epoch 73/100 Validation Summary ---\n",
      "Validation BCE Loss: 0.208771\n",
      "Validation F1-score: 0.871939\n",
      "Validation Precision: 0.916777\n",
      "Validation Recall: 0.831282\n",
      "Validation ROC AUC: 0.892031\n",
      "Current Learning Rate: 0.000100\n"
     ]
    },
    {
     "name": "stderr",
     "output_type": "stream",
     "text": [
      "Epoch 74/100 (Train): 100%|██████████████████████████████| 2307/2307 [15:29<00:00,  2.48it/s, avg_loss=0.17, loss=0.174]\n"
     ]
    },
    {
     "name": "stdout",
     "output_type": "stream",
     "text": [
      "\n",
      "--- Epoch 74/100 Training Summary ---\n",
      "Train Average Loss (BCE): 0.170476\n",
      "Train F1-score: 0.896623\n",
      "Train Precision: 0.944059\n",
      "Train Recall: 0.853726\n",
      "Train ROC AUC: 0.906472\n"
     ]
    },
    {
     "name": "stderr",
     "output_type": "stream",
     "text": [
      "Validation: 100%|█████████████████████████████████████████████████████████████████████| 139/139 [00:04<00:00, 29.16it/s]\n"
     ]
    },
    {
     "name": "stdout",
     "output_type": "stream",
     "text": [
      "\n",
      "--- Epoch 74/100 Validation Summary ---\n",
      "Validation BCE Loss: 0.213044\n",
      "Validation F1-score: 0.881542\n",
      "Validation Precision: 0.908272\n",
      "Validation Recall: 0.856340\n",
      "Validation ROC AUC: 0.887415\n",
      "Current Learning Rate: 0.000100\n"
     ]
    },
    {
     "name": "stderr",
     "output_type": "stream",
     "text": [
      "Epoch 75/100 (Train): 100%|██████████████████████████████| 2307/2307 [16:57<00:00,  2.27it/s, avg_loss=0.17, loss=0.351]\n"
     ]
    },
    {
     "name": "stdout",
     "output_type": "stream",
     "text": [
      "\n",
      "--- Epoch 75/100 Training Summary ---\n",
      "Train Average Loss (BCE): 0.170484\n",
      "Train F1-score: 0.896969\n",
      "Train Precision: 0.943932\n",
      "Train Recall: 0.854457\n",
      "Train ROC AUC: 0.955799\n"
     ]
    },
    {
     "name": "stderr",
     "output_type": "stream",
     "text": [
      "Validation: 100%|█████████████████████████████████████████████████████████████████████| 139/139 [00:05<00:00, 27.19it/s]\n"
     ]
    },
    {
     "name": "stdout",
     "output_type": "stream",
     "text": [
      "\n",
      "--- Epoch 75/100 Validation Summary ---\n",
      "Validation BCE Loss: 0.210047\n",
      "Validation F1-score: 0.879740\n",
      "Validation Precision: 0.915514\n",
      "Validation Recall: 0.846656\n",
      "Validation ROC AUC: 0.892553\n",
      "Current Learning Rate: 0.000100\n"
     ]
    },
    {
     "name": "stderr",
     "output_type": "stream",
     "text": [
      "Epoch 76/100 (Train): 100%|█████████████████████████████| 2307/2307 [16:05<00:00,  2.39it/s, avg_loss=0.169, loss=0.155]\n"
     ]
    },
    {
     "name": "stdout",
     "output_type": "stream",
     "text": [
      "\n",
      "--- Epoch 76/100 Training Summary ---\n",
      "Train Average Loss (BCE): 0.168602\n",
      "Train F1-score: 0.897894\n",
      "Train Precision: 0.944864\n",
      "Train Recall: 0.855372\n",
      "Train ROC AUC: 0.925345\n"
     ]
    },
    {
     "name": "stderr",
     "output_type": "stream",
     "text": [
      "Validation: 100%|█████████████████████████████████████████████████████████████████████| 139/139 [00:06<00:00, 20.17it/s]\n"
     ]
    },
    {
     "name": "stdout",
     "output_type": "stream",
     "text": [
      "\n",
      "--- Epoch 76/100 Validation Summary ---\n",
      "Validation BCE Loss: 0.207621\n",
      "Validation F1-score: 0.874282\n",
      "Validation Precision: 0.917235\n",
      "Validation Recall: 0.835173\n",
      "Validation ROC AUC: 0.886615\n",
      "Current Learning Rate: 0.000050\n"
     ]
    },
    {
     "name": "stderr",
     "output_type": "stream",
     "text": [
      "Epoch 77/100 (Train): 100%|█████████████████████████████| 2307/2307 [15:28<00:00,  2.48it/s, avg_loss=0.167, loss=0.146]\n"
     ]
    },
    {
     "name": "stdout",
     "output_type": "stream",
     "text": [
      "\n",
      "--- Epoch 77/100 Training Summary ---\n",
      "Train Average Loss (BCE): 0.166805\n",
      "Train F1-score: 0.898919\n",
      "Train Precision: 0.945865\n",
      "Train Recall: 0.856413\n",
      "Train ROC AUC: 0.944274\n"
     ]
    },
    {
     "name": "stderr",
     "output_type": "stream",
     "text": [
      "Validation: 100%|█████████████████████████████████████████████████████████████████████| 139/139 [00:04<00:00, 28.87it/s]\n"
     ]
    },
    {
     "name": "stdout",
     "output_type": "stream",
     "text": [
      "\n",
      "--- Epoch 77/100 Validation Summary ---\n",
      "Validation BCE Loss: 0.209789\n",
      "Validation F1-score: 0.874383\n",
      "Validation Precision: 0.916498\n",
      "Validation Recall: 0.835968\n",
      "Validation ROC AUC: 0.889962\n",
      "Current Learning Rate: 0.000050\n"
     ]
    },
    {
     "name": "stderr",
     "output_type": "stream",
     "text": [
      "Epoch 78/100 (Train): 100%|█████████████████████████████| 2307/2307 [15:26<00:00,  2.49it/s, avg_loss=0.166, loss=0.158]\n"
     ]
    },
    {
     "name": "stdout",
     "output_type": "stream",
     "text": [
      "\n",
      "--- Epoch 78/100 Training Summary ---\n",
      "Train Average Loss (BCE): 0.166097\n",
      "Train F1-score: 0.899620\n",
      "Train Precision: 0.946075\n",
      "Train Recall: 0.857514\n",
      "Train ROC AUC: 0.941334\n"
     ]
    },
    {
     "name": "stderr",
     "output_type": "stream",
     "text": [
      "Validation: 100%|█████████████████████████████████████████████████████████████████████| 139/139 [00:04<00:00, 31.06it/s]\n"
     ]
    },
    {
     "name": "stdout",
     "output_type": "stream",
     "text": [
      "\n",
      "--- Epoch 78/100 Validation Summary ---\n",
      "Validation BCE Loss: 0.211939\n",
      "Validation F1-score: 0.867492\n",
      "Validation Precision: 0.919227\n",
      "Validation Recall: 0.821270\n",
      "Validation ROC AUC: 0.887772\n",
      "Current Learning Rate: 0.000050\n"
     ]
    },
    {
     "name": "stderr",
     "output_type": "stream",
     "text": [
      "Epoch 79/100 (Train): 100%|█████████████████████████████| 2307/2307 [16:27<00:00,  2.34it/s, avg_loss=0.167, loss=0.224]\n"
     ]
    },
    {
     "name": "stdout",
     "output_type": "stream",
     "text": [
      "\n",
      "--- Epoch 79/100 Training Summary ---\n",
      "Train Average Loss (BCE): 0.166950\n",
      "Train F1-score: 0.898441\n",
      "Train Precision: 0.945602\n",
      "Train Recall: 0.855761\n",
      "Train ROC AUC: 0.917341\n"
     ]
    },
    {
     "name": "stderr",
     "output_type": "stream",
     "text": [
      "Validation: 100%|█████████████████████████████████████████████████████████████████████| 139/139 [00:07<00:00, 18.45it/s]\n"
     ]
    },
    {
     "name": "stdout",
     "output_type": "stream",
     "text": [
      "\n",
      "--- Epoch 79/100 Validation Summary ---\n",
      "Validation BCE Loss: 0.213941\n",
      "Validation F1-score: 0.877775\n",
      "Validation Precision: 0.913054\n",
      "Validation Recall: 0.845120\n",
      "Validation ROC AUC: 0.888402\n",
      "Current Learning Rate: 0.000050\n"
     ]
    },
    {
     "name": "stderr",
     "output_type": "stream",
     "text": [
      "Epoch 80/100 (Train): 100%|█████████████████████████████| 2307/2307 [15:34<00:00,  2.47it/s, avg_loss=0.166, loss=0.126]\n"
     ]
    },
    {
     "name": "stdout",
     "output_type": "stream",
     "text": [
      "\n",
      "--- Epoch 80/100 Training Summary ---\n",
      "Train Average Loss (BCE): 0.166345\n",
      "Train F1-score: 0.899324\n",
      "Train Precision: 0.945849\n",
      "Train Recall: 0.857162\n",
      "Train ROC AUC: 0.945397\n"
     ]
    },
    {
     "name": "stderr",
     "output_type": "stream",
     "text": [
      "Validation: 100%|█████████████████████████████████████████████████████████████████████| 139/139 [00:07<00:00, 18.63it/s]\n"
     ]
    },
    {
     "name": "stdout",
     "output_type": "stream",
     "text": [
      "\n",
      "--- Epoch 80/100 Validation Summary ---\n",
      "Validation BCE Loss: 0.211410\n",
      "Validation F1-score: 0.868560\n",
      "Validation Precision: 0.921365\n",
      "Validation Recall: 0.821479\n",
      "Validation ROC AUC: 0.890296\n",
      "Current Learning Rate: 0.000050\n"
     ]
    },
    {
     "name": "stderr",
     "output_type": "stream",
     "text": [
      "Epoch 81/100 (Train): 100%|█████████████████████████████| 2307/2307 [15:31<00:00,  2.48it/s, avg_loss=0.166, loss=0.162]\n"
     ]
    },
    {
     "name": "stdout",
     "output_type": "stream",
     "text": [
      "\n",
      "--- Epoch 81/100 Training Summary ---\n",
      "Train Average Loss (BCE): 0.165650\n",
      "Train F1-score: 0.899630\n",
      "Train Precision: 0.946484\n",
      "Train Recall: 0.857196\n",
      "Train ROC AUC: 0.938645\n"
     ]
    },
    {
     "name": "stderr",
     "output_type": "stream",
     "text": [
      "Validation: 100%|█████████████████████████████████████████████████████████████████████| 139/139 [00:04<00:00, 30.20it/s]\n"
     ]
    },
    {
     "name": "stdout",
     "output_type": "stream",
     "text": [
      "\n",
      "--- Epoch 81/100 Validation Summary ---\n",
      "Validation BCE Loss: 0.210111\n",
      "Validation F1-score: 0.878399\n",
      "Validation Precision: 0.915453\n",
      "Validation Recall: 0.844229\n",
      "Validation ROC AUC: 0.891093\n",
      "Current Learning Rate: 0.000050\n"
     ]
    },
    {
     "name": "stderr",
     "output_type": "stream",
     "text": [
      "Epoch 82/100 (Train): 100%|█████████████████████████████| 2307/2307 [15:36<00:00,  2.46it/s, avg_loss=0.166, loss=0.127]\n"
     ]
    },
    {
     "name": "stdout",
     "output_type": "stream",
     "text": [
      "\n",
      "--- Epoch 82/100 Training Summary ---\n",
      "Train Average Loss (BCE): 0.166368\n",
      "Train F1-score: 0.899129\n",
      "Train Precision: 0.945954\n",
      "Train Recall: 0.856721\n",
      "Train ROC AUC: 0.952431\n"
     ]
    },
    {
     "name": "stderr",
     "output_type": "stream",
     "text": [
      "Validation: 100%|█████████████████████████████████████████████████████████████████████| 139/139 [00:05<00:00, 27.67it/s]\n"
     ]
    },
    {
     "name": "stdout",
     "output_type": "stream",
     "text": [
      "\n",
      "--- Epoch 82/100 Validation Summary ---\n",
      "Validation BCE Loss: 0.206912\n",
      "Validation F1-score: 0.867334\n",
      "Validation Precision: 0.925048\n",
      "Validation Recall: 0.816400\n",
      "Validation ROC AUC: 0.892729\n",
      "Current Learning Rate: 0.000050\n"
     ]
    },
    {
     "name": "stderr",
     "output_type": "stream",
     "text": [
      "Epoch 83/100 (Train): 100%|█████████████████████████████| 2307/2307 [15:43<00:00,  2.45it/s, avg_loss=0.166, loss=0.172]\n"
     ]
    },
    {
     "name": "stdout",
     "output_type": "stream",
     "text": [
      "\n",
      "--- Epoch 83/100 Training Summary ---\n",
      "Train Average Loss (BCE): 0.165980\n",
      "Train F1-score: 0.899371\n",
      "Train Precision: 0.946021\n",
      "Train Recall: 0.857105\n",
      "Train ROC AUC: 0.931551\n"
     ]
    },
    {
     "name": "stderr",
     "output_type": "stream",
     "text": [
      "Validation: 100%|█████████████████████████████████████████████████████████████████████| 139/139 [00:04<00:00, 28.01it/s]\n"
     ]
    },
    {
     "name": "stdout",
     "output_type": "stream",
     "text": [
      "\n",
      "--- Epoch 83/100 Validation Summary ---\n",
      "Validation BCE Loss: 0.213004\n",
      "Validation F1-score: 0.872517\n",
      "Validation Precision: 0.918132\n",
      "Validation Recall: 0.831220\n",
      "Validation ROC AUC: 0.887836\n",
      "Current Learning Rate: 0.000050\n"
     ]
    },
    {
     "name": "stderr",
     "output_type": "stream",
     "text": [
      "Epoch 84/100 (Train):   7%|██▏                           | 167/2307 [01:11<13:04,  2.73it/s, avg_loss=0.164, loss=0.141]"
     ]
    }
   ],
   "source": [
    "import pickle\n",
    "import os\n",
    "import numpy as np\n",
    "from scipy.signal import resample\n",
    "import torch\n",
    "import numpy as np\n",
    "from torch.utils.data import Dataset, DataLoader\n",
    "import torch.nn as nn\n",
    "import torch.optim as optim\n",
    "import torch.nn.functional as F\n",
    "import math\n",
    "from tqdm import tqdm\n",
    "import matplotlib.pyplot as plt\n",
    "from sklearn.metrics import f1_score, precision_score, recall_score, roc_auc_score\n",
    "from scipy.interpolate import interp1d\n",
    "import typing as tp\n",
    "import random\n",
    "\n",
    "# 假设 SEANetTransformerClassifier 和 create_mask 在导入的 seanet_style 模块中\n",
    "# from seanet_style import SEANetTransformerClassifier, create_mask \n",
    "# 保持原有的导入，但需要确保这些类是可用的。\n",
    "\n",
    "# --- Dataset Classes ---\n",
    "\n",
    "class ClassificationDataset(Dataset):\n",
    "    def __init__(self, input_files, output_files, min_window=1000, max_window=4000,\n",
    "                 noise_stds=1e-6, transform_probability=0.95, step_size=50,\n",
    "                 channel_wise_noise_stds=None,\n",
    "                 scale_range=(0.9, 1.1),\n",
    "                 num_warp_knots=4,\n",
    "                 warp_scale=0.1):\n",
    "        self.input_files = input_files\n",
    "        self.output_files = output_files\n",
    "        assert len(self.input_files) == len(self.output_files), \"输入输出文件数量不匹配\"\n",
    "\n",
    "        self.file_metadata = []\n",
    "        # 使用 np.load(f, mmap_mode='r') 节省内存\n",
    "        self.input_memmaps = [np.load(f, mmap_mode='r') for f in self.input_files]\n",
    "        self.output_memmaps = [np.load(f, mmap_mode='r') for f in self.output_files]\n",
    "\n",
    "        self.min_window = min_window\n",
    "        self.max_window = max_window\n",
    "        self.step_size = step_size\n",
    "        self.valid_window_sizes = list(range(min_window, max_window + 1, step_size))\n",
    "        if not self.valid_window_sizes:\n",
    "            self.valid_window_sizes = [min_window]\n",
    "\n",
    "        self.noise_stds = noise_stds\n",
    "        self.transform_prob = transform_probability\n",
    "        self.channel_wise_noise_stds = channel_wise_noise_stds\n",
    "        self.scale_range = scale_range\n",
    "\n",
    "        self.num_warp_knots = num_warp_knots\n",
    "        self.warp_scale = warp_scale\n",
    "\n",
    "        self.total_windows = 0\n",
    "        for i, (inp_mmap, out_mmap) in enumerate(zip(self.input_memmaps, self.output_memmaps)):\n",
    "            channels, length = inp_mmap.shape\n",
    "\n",
    "            num_windows_in_file = 0\n",
    "            if length >= self.min_window:\n",
    "                # 简单计算基于 min_window 和 step_size 的窗口数量\n",
    "                num_windows_in_file = (length - self.min_window) // self.step_size + 1\n",
    "\n",
    "            self.file_metadata.append({\n",
    "                'input_shape': inp_mmap.shape,\n",
    "                'output_shape': out_mmap.shape,\n",
    "                'length': length,\n",
    "                'channels': channels,\n",
    "                'num_windows': num_windows_in_file,\n",
    "                'start_idx_offset': self.total_windows\n",
    "            })\n",
    "            self.total_windows += num_windows_in_file\n",
    "\n",
    "    def __len__(self):\n",
    "        return self.total_windows\n",
    "\n",
    "    def _time_warp(self, input_tensor, output_tensor):\n",
    "        \"\"\"\n",
    "        Applies time warping to the input and output tensors.\n",
    "        input_tensor: (C, L)\n",
    "        output_tensor: (C', L)\n",
    "        \"\"\"\n",
    "        length = input_tensor.shape[1]\n",
    "        t = np.linspace(0, 1, length)\n",
    "\n",
    "        knots_x = np.linspace(0, 1, self.num_warp_knots)\n",
    "        knots_y = knots_x + np.random.normal(0, self.warp_scale, self.num_warp_knots)\n",
    "        knots_y = np.sort(knots_y)\n",
    "\n",
    "        knots_y[0] = 0\n",
    "        knots_y[-1] = 1\n",
    "\n",
    "        warp_func = interp1d(knots_x, knots_y, kind='cubic', fill_value=\"extrapolate\")\n",
    "        warped_t = warp_func(t)\n",
    "        warped_t = np.clip(warped_t, 0, 1)\n",
    "\n",
    "        warped_input_channels = []\n",
    "        for i in range(input_tensor.shape[0]):\n",
    "            interp_func = interp1d(t, input_tensor[i, :].numpy(), kind='linear', fill_value=\"extrapolate\")\n",
    "            warped_input_channels.append(interp_func(warped_t))\n",
    "        warped_input = torch.from_numpy(np.array(warped_input_channels)).float()\n",
    "\n",
    "        warped_output_channels = []\n",
    "        for i in range(output_tensor.shape[0]):\n",
    "            interp_func = interp1d(t, output_tensor[i, :].numpy(), kind='linear', fill_value=\"extrapolate\")\n",
    "            warped_output_channels.append(interp_func(warped_t))\n",
    "        warped_output = torch.from_numpy(np.array(warped_output_channels)).float()\n",
    "\n",
    "        # Reshape/pad to original length L\n",
    "        if warped_input.shape[1] < length:\n",
    "            pad_amount = length - warped_input.shape[1]\n",
    "            warped_input = F.pad(warped_input, (0, pad_amount), 'constant', 0)\n",
    "            warped_output = F.pad(warped_output, (0, pad_amount), 'constant', 0)\n",
    "        elif warped_input.shape[1] > length:\n",
    "            warped_input = warped_input[:, :length]\n",
    "            warped_output = warped_output[:, :length]\n",
    "        \n",
    "        threshold = 0.5\n",
    "        warped_output = (warped_output > threshold).float()\n",
    "        return warped_input, warped_output\n",
    "\n",
    "\n",
    "    def __getitem__(self, idx):\n",
    "        current_offset = 0\n",
    "        file_idx = -1\n",
    "        local_idx = -1\n",
    "        for i, meta in enumerate(self.file_metadata):\n",
    "            if idx < current_offset + meta['num_windows']:\n",
    "                file_idx = i\n",
    "                local_idx = idx - current_offset\n",
    "                break\n",
    "            current_offset += meta['num_windows']\n",
    "\n",
    "        if file_idx == -1:\n",
    "            raise IndexError(\"Index out of bounds for dataset.\")\n",
    "\n",
    "        meta = self.file_metadata[file_idx]\n",
    "\n",
    "        # 1. 随机选择窗口长度\n",
    "        window_length = np.random.choice(self.valid_window_sizes)\n",
    "\n",
    "        # 2. 窗口选择策略：基于步长对齐的基础起始点 + 随机偏移\n",
    "        base_start = local_idx * self.step_size\n",
    "        max_possible_start = max(0, meta['length'] - window_length)\n",
    "        random_offset = np.random.randint(0, self.step_size)\n",
    "        start = min(base_start + random_offset, max_possible_start)\n",
    "        end = start + window_length\n",
    "\n",
    "        if end > meta['length']:\n",
    "            end = meta['length']\n",
    "            start = max(0, end - window_length)\n",
    "\n",
    "        input_data_np = self.input_memmaps[file_idx][:, start:end]\n",
    "        output_data_np = self.output_memmaps[file_idx][:, start:end]\n",
    "\n",
    "        input_window = torch.from_numpy(input_data_np).float()\n",
    "        output_window = torch.from_numpy(output_data_np).float()\n",
    "\n",
    "        if output_window.shape[0] > 1:\n",
    "            output_window = output_window[0:1, :]\n",
    "\n",
    "        # 3. 数据增强\n",
    "        if np.random.rand() < self.transform_prob:\n",
    "            # Random Scaling\n",
    "            scale_factor = np.random.uniform(self.scale_range[0], self.scale_range[1])\n",
    "            input_window = input_window * scale_factor\n",
    "\n",
    "            # Randomly add noise\n",
    "            if self.channel_wise_noise_stds is not None:\n",
    "                # noise_scale is expected to be a tensor of shape (C, 1) or (C)\n",
    "                noise_scale = self.channel_wise_noise_stds.to(input_window.device)\n",
    "                if noise_scale.dim() == 1:\n",
    "                    noise_scale = noise_scale.unsqueeze(-1) # (C, 1)\n",
    "                \n",
    "                # Expand noise_scale to match input_window.shape[1] for broadcasting\n",
    "                noise = torch.randn_like(input_window) * noise_scale\n",
    "            else:\n",
    "                noise = torch.randn_like(input_window) * self.noise_stds\n",
    "\n",
    "            input_window = input_window + noise\n",
    "\n",
    "            input_window, output_window = self._time_warp(input_window, output_window)\n",
    "\n",
    "        # 确保 output_window 长度与 input_window 匹配 (时间轴)\n",
    "        if input_window.shape[-1] != output_window.shape[-1]:\n",
    "             min_len = min(input_window.shape[-1], output_window.shape[-1])\n",
    "             input_window = input_window[..., :min_len]\n",
    "             output_window = output_window[..., :min_len]\n",
    "\n",
    "        return input_window, output_window, input_window.shape[-1], output_window.shape[-1]\n",
    "\n",
    "\n",
    "class ValidationDataset(Dataset):\n",
    "    def __init__(self, input_files, output_files, chunk_size=1000):\n",
    "        self.input_files = input_files\n",
    "        self.output_files = output_files\n",
    "        assert len(self.input_files) == len(self.output_files), \"Input and output file counts mismatch.\"\n",
    "        \n",
    "        self.chunk_size = chunk_size\n",
    "        self.data_chunks = []\n",
    "\n",
    "        # 在 ValidationDataset 中，我们直接加载数据并切分成 chunk，不使用 mmap_mode='r'\n",
    "        # 因为验证集通常较小，且需要立即切分\n",
    "        for i, (input_file, output_file) in enumerate(zip(self.input_files, self.output_files)):\n",
    "            inp_full_np = np.load(input_file)\n",
    "            out_full_np = np.load(output_file)\n",
    "\n",
    "            min_len = min(inp_full_np.shape[1], out_full_np.shape[1])\n",
    "            input_full_np = inp_full_np[:, :min_len]\n",
    "            output_full_np = out_full_np[:, :min_len]\n",
    "\n",
    "            if output_full_np.shape[0] > 1:\n",
    "                output_full_np = output_full_np[0:1, :]\n",
    "\n",
    "            total_input_len = input_full_np.shape[1]\n",
    "            \n",
    "            for start_idx in range(0, total_input_len, chunk_size):\n",
    "                end_idx = min(start_idx + chunk_size, total_input_len)\n",
    "                \n",
    "                input_chunk = torch.from_numpy(input_full_np[:, start_idx:end_idx]).float()\n",
    "                output_chunk = torch.from_numpy(output_full_np[:, start_idx:end_idx]).float()\n",
    "                \n",
    "                self.data_chunks.append((input_chunk, output_chunk, input_chunk.shape[1], output_chunk.shape[1]))\n",
    "\n",
    "    def __len__(self):\n",
    "        return len(self.data_chunks)\n",
    "\n",
    "    def __getitem__(self, idx):\n",
    "        return self.data_chunks[idx]\n",
    "\n",
    "# --- Helper Functions (collate_fn and metrics functions remain the same) ---\n",
    "\n",
    "def collate_fn(batch):\n",
    "    inputs, outputs, input_lengths_orig, output_lengths_orig = zip(*batch)\n",
    "    \n",
    "    input_lengths = list(input_lengths_orig)\n",
    "    output_lengths = list(output_lengths_orig)\n",
    "    \n",
    "    max_input_len = max(input_lengths)\n",
    "    padded_inputs = torch.stack([\n",
    "        torch.nn.functional.pad(x, (0, max_input_len - x.shape[-1])) \n",
    "        for x in inputs\n",
    "    ])\n",
    "    \n",
    "    max_output_len = max(output_lengths)\n",
    "    padded_outputs = torch.stack([\n",
    "        torch.nn.functional.pad(y, (0, max_output_len - y.shape[-1]))\n",
    "        for y in outputs\n",
    "    ])\n",
    "    \n",
    "    return padded_inputs, padded_outputs, input_lengths, output_lengths\n",
    "\n",
    "def calculate_classification_metrics_optimized(tp, fp, tn, fn, all_predictions_probs_flat, all_targets_flat):\n",
    "    \"\"\"\n",
    "    Calculates classification metrics using accumulated confusion matrix components.\n",
    "    Includes ROC AUC calculation which still requires all probabilities and targets.\n",
    "    \"\"\"\n",
    "    # Calculate F1, Precision, Recall from TP, FP, TN, FN\n",
    "    precision = tp / (tp + fp + 1e-8)\n",
    "    recall = tp / (tp + fn + 1e-8)\n",
    "    f1 = 2 * (precision * recall) / (precision + recall + 1e-8)\n",
    "    \n",
    "    # ROC AUC calculation\n",
    "    if len(np.unique(all_targets_flat)) > 1 and len(all_predictions_probs_flat) > 0:\n",
    "        roc_auc = roc_auc_score(all_targets_flat, all_predictions_probs_flat)\n",
    "    else:\n",
    "        roc_auc = float('nan') \n",
    "\n",
    "    return f1, precision, recall, roc_auc\n",
    "\n",
    "def evaluate_model(model, dataloader, criterion, num_output_channels, device, threshold=0.5, max_auc_samples=500000):\n",
    "    model.eval()\n",
    "    total_loss = 0.0\n",
    "    total_valid_elements = 0\n",
    "    \n",
    "    true_positives = 0\n",
    "    false_positives = 0\n",
    "    true_negatives = 0\n",
    "    false_negatives = 0\n",
    "\n",
    "    all_valid_predictions_probs_for_auc = []\n",
    "    all_valid_targets_for_auc = []\n",
    "\n",
    "    with torch.no_grad():\n",
    "        progress_bar_val = tqdm(dataloader, desc=\"Validation\")\n",
    "        for batch in progress_bar_val:\n",
    "            inputs, targets, input_lengths, output_lengths = batch\n",
    "            inputs, targets = inputs.to(device), targets.to(device)\n",
    "\n",
    "            targets = targets.float()\n",
    "\n",
    "            predictions_logits = model(inputs, original_lengths=input_lengths)\n",
    "            \n",
    "            max_output_len = predictions_logits.size(-1)\n",
    "            output_mask_batch_time = create_mask(\n",
    "                [min(l, max_output_len) for l in output_lengths], \n",
    "                max_output_len,\n",
    "                device\n",
    "            )\n",
    "\n",
    "            expanded_output_mask = output_mask_batch_time.unsqueeze(1) \n",
    "\n",
    "            predictions_logits_flat = predictions_logits.flatten()\n",
    "            targets_flat = targets.flatten()\n",
    "\n",
    "            valid_elements_mask_flat = (~expanded_output_mask).flatten()\n",
    "\n",
    "            valid_predictions_logits = predictions_logits_flat[valid_elements_mask_flat]\n",
    "            valid_targets = targets_flat[valid_elements_mask_flat]\n",
    "\n",
    "            if valid_targets.numel() > 0:\n",
    "                loss_tensor = criterion(valid_predictions_logits, valid_targets)\n",
    "                loss = loss_tensor.mean()\n",
    "                total_loss += loss.item() * valid_targets.numel()\n",
    "                total_valid_elements += valid_targets.numel()\n",
    "\n",
    "                valid_predictions_probs = torch.sigmoid(valid_predictions_logits)\n",
    "                valid_predictions_binary = (valid_predictions_probs >= threshold).int()\n",
    "\n",
    "                true_positives += ((valid_predictions_binary == 1) & (valid_targets == 1)).sum().item()\n",
    "                false_positives += ((valid_predictions_binary == 1) & (valid_targets == 0)).sum().item()\n",
    "                true_negatives += ((valid_predictions_binary == 0) & (valid_targets == 0)).sum().item()\n",
    "                false_negatives += ((valid_predictions_binary == 0) & (valid_targets == 1)).sum().item()\n",
    "\n",
    "                # --- 采样部分 START ---\n",
    "                current_batch_size_valid = valid_targets.numel()\n",
    "                if len(all_valid_predictions_probs_for_auc) < max_auc_samples:\n",
    "                    # 如果总样本数还没达到上限，直接添加\n",
    "                    all_valid_predictions_probs_for_auc.extend(valid_predictions_probs.cpu().tolist())\n",
    "                    all_valid_targets_for_auc.extend(valid_targets.cpu().tolist())\n",
    "                elif current_batch_size_valid > 0:\n",
    "                    # 如果已达到上限，从当前批次中随机采样一部分\n",
    "                    num_to_sample = min(current_batch_size_valid, max_auc_samples // 10)\n",
    "                    if num_to_sample > 0:\n",
    "                        indices = torch.randperm(current_batch_size_valid)[:num_to_sample]\n",
    "                        all_valid_predictions_probs_for_auc.extend(valid_predictions_probs[indices].cpu().tolist())\n",
    "                        all_valid_targets_for_auc.extend(valid_targets[indices].cpu().tolist())\n",
    "                        \n",
    "                        if len(all_valid_predictions_probs_for_auc) > max_auc_samples:\n",
    "                            all_valid_predictions_probs_for_auc = all_valid_predictions_probs_for_auc[-max_auc_samples:]\n",
    "                            all_valid_targets_for_auc = all_valid_targets_for_auc[-max_auc_samples:]\n",
    "                # --- 采样部分 END ---\n",
    "\n",
    "            else:\n",
    "                loss = torch.tensor(0.0).to(device)\n",
    "\n",
    "    avg_loss = total_loss / (total_valid_elements + 1e-8) if total_valid_elements > 0 else float('nan')\n",
    "    \n",
    "    sampled_probs_np = np.array(all_valid_predictions_probs_for_auc)\n",
    "    sampled_targets_np = np.array(all_valid_targets_for_auc)\n",
    "\n",
    "    f1, precision, recall, roc_auc = calculate_classification_metrics_optimized(\n",
    "        true_positives, false_positives, true_negatives, false_negatives,\n",
    "        sampled_probs_np, sampled_targets_np\n",
    "    )\n",
    "    \n",
    "    return avg_loss, f1, precision, recall, roc_auc\n",
    "\n",
    "def plot_metrics(train_losses, val_losses, train_f1_scores, val_f1_scores,\n",
    "                 train_precisions, val_precisions, train_recalls, val_recalls,\n",
    "                 train_roc_aucs, val_roc_aucs,\n",
    "                 num_epochs, save_dir=\".\"):\n",
    "    \n",
    "    epochs = range(1, num_epochs + 1)\n",
    "\n",
    "    fig, axes = plt.subplots(2, 3, figsize=(20, 12))\n",
    "    fig.suptitle('Training and Validation Metrics per Epoch', fontsize=16)\n",
    "\n",
    "    axes[0, 0].plot(epochs, train_losses, label='Training Loss')\n",
    "    axes[0, 0].plot(epochs, val_losses, label='Validation Loss')\n",
    "    axes[0, 0].set_title('Binary Cross Entropy Loss')\n",
    "    axes[0, 0].set_xlabel('Epoch')\n",
    "    axes[0, 0].set_ylabel('Loss')\n",
    "    axes[0, 0].legend()\n",
    "    axes[0, 0].grid(True)\n",
    "\n",
    "    axes[0, 1].plot(epochs, train_f1_scores, label='Training F1-score', color='orange')\n",
    "    axes[0, 1].plot(epochs, val_f1_scores, label='Validation F1-score', color='red')\n",
    "    axes[0, 1].set_title('F1-score')\n",
    "    axes[0, 1].set_xlabel('Epoch')\n",
    "    axes[0, 1].set_ylabel('F1-score')\n",
    "    axes[0, 1].legend()\n",
    "    axes[0, 1].grid(True)\n",
    "\n",
    "    axes[0, 2].plot(epochs, train_precisions, label='Training Precision', color='green', linestyle='--')\n",
    "    axes[0, 2].plot(epochs, val_precisions, label='Validation Precision', color='green')\n",
    "    axes[0, 2].set_title('Precision')\n",
    "    axes[0, 2].set_xlabel('Epoch')\n",
    "    axes[0, 2].set_ylabel('Precision')\n",
    "    axes[0, 2].legend()\n",
    "    axes[0, 2].grid(True)\n",
    "\n",
    "    axes[1, 0].plot(epochs, train_recalls, label='Training Recall', color='purple', linestyle='--')\n",
    "    axes[1, 0].plot(epochs, val_recalls, label='Validation Recall', color='purple')\n",
    "    axes[1, 0].set_title('Recall')\n",
    "    axes[1, 0].set_xlabel('Epoch')\n",
    "    axes[1, 0].set_ylabel('Recall')\n",
    "    axes[1, 0].legend()\n",
    "    axes[1, 0].grid(True)\n",
    "\n",
    "    axes[1, 1].plot(epochs, train_roc_aucs, label='Training ROC AUC', color='brown', linestyle='--')\n",
    "    axes[1, 1].plot(epochs, val_roc_aucs, label='Validation ROC AUC', color='brown')\n",
    "    axes[1, 1].set_title('ROC AUC')\n",
    "    axes[1, 1].set_xlabel('Epoch')\n",
    "    axes[1, 1].set_ylabel('ROC AUC Score')\n",
    "    axes[1, 1].legend()\n",
    "    axes[1, 1].grid(True)\n",
    "    \n",
    "    axes[1, 2].axis('off')\n",
    "\n",
    "    plt.tight_layout(rect=[0, 0.03, 1, 0.95])\n",
    "    plt.savefig(os.path.join(save_dir, 'classification_metrics_combined.png'))\n",
    "    plt.close(fig)\n"
   ]
  },
  {
   "cell_type": "code",
   "execution_count": null,
   "id": "b3a71cff-0d9c-4e54-b7b5-c43f2967faf4",
   "metadata": {},
   "outputs": [],
   "source": [
    "# --- Dynamic STD Calculation and Data Splitting ---\n",
    "\n",
    "# 统一的数据根目录\n",
    "MEG_ROOT = \"./libribrain/data/meg_data_npy\"\n",
    "LABEL_ROOT = \"./libribrain/data/labels_npy\"\n",
    "VALIDATION_SPLIT = 0.2\n",
    "NUM_CHANNELS = 48 # 固定通道数\n",
    "\n",
    "# 获取所有文件对\n",
    "input_files = sorted([os.path.join(MEG_ROOT, f) for f in os.listdir(MEG_ROOT) if f.endswith('.npy')])\n",
    "output_files = sorted([os.path.join(LABEL_ROOT, f) for f in os.listdir(LABEL_ROOT) if f.endswith('.npy')])\n",
    "\n",
    "# 确保文件数量匹配\n",
    "assert len(input_files) == len(output_files), \"输入和输出文件夹中的文件数量不匹配\"\n",
    "\n"
   ]
  },
  {
   "cell_type": "code",
   "execution_count": null,
   "id": "82472fc2-2fea-49a2-903a-f037e320d1ce",
   "metadata": {},
   "outputs": [],
   "source": [
    "# --- Step 1: 动态计算所有 MEG 文件的通道标准差 (STD) ---\n",
    "print(\"--- Calculating Channel Standard Deviations ---\")\n",
    "channel_sum = np.zeros(NUM_CHANNELS, dtype=np.float64)\n",
    "channel_sq_sum = np.zeros(NUM_CHANNELS, dtype=np.float64)\n",
    "channel_count = np.zeros(NUM_CHANNELS, dtype=np.int64)\n",
    "\n",
    "for input_file in tqdm(input_files, desc=\"Processing files for STD calculation\"):\n",
    "    # 使用 mmap_mode='r' 减少内存占用\n",
    "    data = np.load(input_file, mmap_mode='r').astype(np.float64)\n",
    "    \n",
    "    # 假设 MEG 数据是 (Channels, Time) 形状，即 (48, T)\n",
    "    if data.shape[0] != NUM_CHANNELS:\n",
    "        # 如果是 (T, 48)，则转置为 (48, T)\n",
    "        if data.shape[1] == NUM_CHANNELS:\n",
    "            data = data.T\n",
    "        else:\n",
    "            print(f\"Warning: File {input_file} has unexpected shape {data.shape}. Skipping.\")\n",
    "            continue\n",
    "            \n",
    "    # data 形状现在是 (48, T)\n",
    "    T = data.shape[1]\n",
    "    \n",
    "    channel_sum += np.sum(data, axis=1) # 沿着时间轴求和\n",
    "    channel_sq_sum += np.sum(np.square(data), axis=1)\n",
    "    channel_count += T # 每个通道增加了 T 个样本\n",
    "\n",
    "# 避免除以零\n",
    "safe_channel_count = np.where(channel_count > 0, channel_count, 1)\n",
    "\n",
    "# 计算 mean 和 std\n",
    "mean = channel_sum / safe_channel_count\n",
    "# 使用 E[X^2] - (E[X])^2 公式计算方差\n",
    "variance = (channel_sq_sum / safe_channel_count) - (mean**2)\n",
    "# 确保方差非负\n",
    "std = np.sqrt(np.maximum(variance, 0))\n",
    "\n",
    "# 转换为 torch tensor，并调整形状为 (C, 1) 以便在 Dataset 中广播\n",
    "channel_stds = torch.from_numpy(std).float().unsqueeze(1)\n",
    "print(\"--- STD Calculation Complete ---\")\n",
    "print(f\"Calculated Channel STDs shape: {channel_stds.shape}\")\n",
    "print(f\"Example STD (Channel 0): {channel_stds[0].item():.6f}\")\n"
   ]
  },
  {
   "cell_type": "code",
   "execution_count": null,
   "id": "25390cc3-51c7-4642-9937-73ede44adf6e",
   "metadata": {},
   "outputs": [],
   "source": [
    "# --- Step 2: 划分训练集和验证集文件列表 ---\n",
    "\n",
    "# 将输入文件和输出文件打包成元组列表\n",
    "file_pairs = list(zip(input_files, output_files))\n",
    "random.seed(42) # 保证每次划分结果一致\n",
    "random.shuffle(file_pairs)\n",
    "\n",
    "num_total = len(file_pairs)\n",
    "num_val = int(num_total * VALIDATION_SPLIT)\n",
    "num_train = num_total - num_val\n",
    "\n",
    "train_file_pairs = file_pairs[num_val:]\n",
    "val_file_pairs = file_pairs[:num_val]\n",
    "\n",
    "train_input_files, train_output_files = zip(*train_file_pairs)\n",
    "val_input_files, val_output_files = zip(*val_file_pairs)\n",
    "\n",
    "print(f\"Total files: {num_total}, Train files: {num_train}, Validation files: {num_val}\")\n"
   ]
  },
  {
   "cell_type": "code",
   "execution_count": null,
   "id": "b99254a8-e0d1-43f7-9155-6380b773f55e",
   "metadata": {},
   "outputs": [],
   "source": [
    "# --- Step 3: 创建 Dataset 和 Dataloader ---\n",
    "\n",
    "# Create training dataset and dataloader\n",
    "dataset = ClassificationDataset(\n",
    "    list(train_input_files), \n",
    "    list(train_output_files), \n",
    "    min_window=1000, \n",
    "    max_window=5000, \n",
    "    step_size=1200, \n",
    "    channel_wise_noise_stds=(channel_stds * 0.1) # 使用计算得到的 STD\n",
    ")\n",
    "dataloader = DataLoader(dataset, collate_fn=collate_fn, batch_size=16, shuffle=True, num_workers=4, pin_memory=True) # 增加 num_workers\n",
    "\n",
    "# Create validation dataset and dataloader\n",
    "validation_dataset = ValidationDataset(list(val_input_files), list(val_output_files))\n",
    "validation_dataloader = DataLoader(validation_dataset, collate_fn=collate_fn, batch_size=16, shuffle=False)\n"
   ]
  },
  {
   "cell_type": "code",
   "execution_count": null,
   "id": "5d4f73a4-5203-4990-959b-1478a159fa4a",
   "metadata": {},
   "outputs": [],
   "source": [
    "# --- Model and Training Setup ---\n",
    "\n",
    "num_epochs = 100\n",
    "best_roc_auc = -1.0\n",
    "device = torch.device('cuda' if torch.cuda.is_available() else 'cpu')\n",
    "\n",
    "# Model parameters\n",
    "model_params = {\n",
    "    'input_channels': 48,\n",
    "    'sampling_rate': 250,\n",
    "    'encoder_dimension': 16,\n",
    "    'encoder_n_filters': 8,\n",
    "    'encoder_ratios': [5, 5, 2],\n",
    "    'transformer_n_heads': 4,\n",
    "    'transformer_n_layers': 1,\n",
    "    'transformer_dim_feedforward': 64,\n",
    "    'transformer_dropout': 0.1,\n",
    "    'decoder_out_channels': 1,\n",
    "    'activation': 'GELU',\n",
    "    'activation_params': {},\n",
    "    'norm': 'InstanceNorm1d',\n",
    "    'norm_params': {},\n",
    "    'n_residual_layers': 1,\n",
    "    'kernel_size': 7,\n",
    "    'last_kernel_size': 7,\n",
    "    'residual_kernel_size': 3,\n",
    "    'dilation_base': 2,\n",
    "    'compress': 2,\n",
    "    'true_skip': False\n",
    "}\n",
    "model_path = \"./libribrain/speech_detection.pth\"\n",
    "# **注意：你需要确保 SEANetTransformerClassifier 和 create_mask 已经被正确定义或导入**\n",
    "# 由于您的代码片段中没有它们，我假设它们是可用的。\n",
    "# 实际运行时请确保它们在 `from seanet_style import SEANetTransformerClassifier, create_mask` 中。\n",
    "model = SEANetTransformerClassifier(**model_params).to(device).float()\n",
    "\n",
    "# Using BCEWithLogitsLoss for binary classification\n",
    "# Assuming the positive class (label 1) proportion is 0.7464 (1 - 0.2536), or vice versa.\n",
    "# The original code used 0.2536 / (1 - 0.2536), suggesting 0.2536 is the proportion of negative samples (or the target distribution is heavily skewed).\n",
    "# Let's stick to the ratio in the original code, assuming 0.2536 is P(Negative)\n",
    "# P(Positive) = 1 - P(Negative) = 1 - 0.2536 = 0.7464\n",
    "# pos_weight = P(Negative) / P(Positive) = 0.2536 / 0.7464 ≈ 0.3398\n",
    "pos_weight_value = 0.2536 / (1 - 0.2536) # Value from original code (approx 0.3398)\n",
    "pos_weight = torch.tensor([pos_weight_value]).to(device)\n",
    "\n",
    "criterion = nn.BCEWithLogitsLoss(pos_weight=pos_weight, reduction='none')\n",
    "optimizer = optim.AdamW(model.parameters(), lr=1e-4, weight_decay=1e-5)\n",
    "scheduler = optim.lr_scheduler.ReduceLROnPlateau(optimizer, mode='max', patience=10, factor=0.5, min_lr=1e-8)\n",
    "num_channels = model_params['decoder_out_channels']\n",
    "\n",
    "train_losses = []\n",
    "train_f1_scores = []\n",
    "train_precisions = []\n",
    "train_recalls = []\n",
    "train_roc_aucs = []\n",
    "\n",
    "val_losses = []\n",
    "val_f1_scores = []\n",
    "val_precisions = []\n",
    "val_recalls = []\n",
    "val_roc_aucs = []\n",
    "\n",
    "classification_threshold = 0.5\n",
    "max_auc_samples = 50000 # 减少训练集 AUC 采样以避免内存问题\n"
   ]
  },
  {
   "cell_type": "code",
   "execution_count": null,
   "id": "d02de658-7820-4147-bd68-9c30fdc8e867",
   "metadata": {},
   "outputs": [],
   "source": [
    "# --- Training Loop ---\n",
    "\n",
    "for epoch in range(num_epochs):\n",
    "    # --- Training Phase ---\n",
    "    model.train()\n",
    "    running_loss_sum = 0.0\n",
    "    total_train_valid_elements = 0\n",
    "    \n",
    "    train_true_positives = 0\n",
    "    train_false_positives = 0\n",
    "    train_true_negatives = 0\n",
    "    train_false_negatives = 0\n",
    "\n",
    "    all_train_valid_predictions_probs_for_auc = []\n",
    "    all_train_valid_targets_for_auc = []\n",
    "    \n",
    "    progress_bar = tqdm(dataloader, desc=f\"Epoch {epoch+1}/{num_epochs} (Train)\")\n",
    "    \n",
    "    for batch in progress_bar:\n",
    "        inputs, targets, input_lengths, output_lengths = batch\n",
    "        inputs, targets = inputs.to(device), targets.to(device)\n",
    "        targets = targets.float()\n",
    "        \n",
    "        optimizer.zero_grad()\n",
    "        predictions_logits = model(inputs, original_lengths=input_lengths)\n",
    "        \n",
    "        max_output_len = predictions_logits.size(-1)\n",
    "        output_mask_batch_time = create_mask(\n",
    "            [min(l, max_output_len) for l in output_lengths], \n",
    "            max_output_len,\n",
    "            device\n",
    "        )\n",
    "\n",
    "        expanded_output_mask = output_mask_batch_time.unsqueeze(1) \n",
    "\n",
    "        predictions_logits_flat = predictions_logits.flatten()\n",
    "        targets_flat = targets.flatten()\n",
    "\n",
    "        valid_elements_mask_flat = (~expanded_output_mask).flatten()\n",
    "\n",
    "        valid_predictions_logits = predictions_logits_flat[valid_elements_mask_flat]\n",
    "        valid_targets = targets_flat[valid_elements_mask_flat]\n",
    "\n",
    "        if valid_targets.numel() > 0:\n",
    "            loss = criterion(valid_predictions_logits, valid_targets).mean()\n",
    "            loss.backward()\n",
    "            torch.nn.utils.clip_grad_norm_(model.parameters(), 1.0)\n",
    "            optimizer.step()\n",
    "            \n",
    "            running_loss_sum += loss.item() * valid_targets.numel()\n",
    "            total_train_valid_elements += valid_targets.numel()\n",
    "            \n",
    "            with torch.no_grad():\n",
    "                valid_predictions_probs = torch.sigmoid(valid_predictions_logits)\n",
    "                valid_predictions_binary = (valid_predictions_probs >= classification_threshold).int()\n",
    "\n",
    "                train_true_positives += ((valid_predictions_binary == 1) & (valid_targets == 1)).sum().item()\n",
    "                train_false_positives += ((valid_predictions_binary == 1) & (valid_targets == 0)).sum().item()\n",
    "                train_true_negatives += ((valid_predictions_binary == 0) & (valid_targets == 0)).sum().item()\n",
    "                train_false_negatives += ((valid_predictions_binary == 0) & (valid_targets == 1)).sum().item()\n",
    "\n",
    "                # For ROC AUC in training: sample/truncate\n",
    "                if len(all_train_valid_predictions_probs_for_auc) < max_auc_samples:\n",
    "                    all_train_valid_predictions_probs_for_auc.extend(valid_predictions_probs.cpu().tolist())\n",
    "                    all_train_valid_targets_for_auc.extend(valid_targets.cpu().tolist())\n",
    "                # Note: For training, simpler truncation/no-more-sampling approach is often used \n",
    "                # because the full train AUC is too slow/memory intensive.\n",
    "        else:\n",
    "            loss = torch.tensor(0.0).to(device)\n",
    "            \n",
    "        avg_loss_display = running_loss_sum / (total_train_valid_elements + 1e-8)\n",
    "        progress_bar.set_postfix(\n",
    "            loss=loss.item(),\n",
    "            avg_loss=avg_loss_display\n",
    "        )\n",
    "            \n",
    "    epoch_avg_loss = running_loss_sum / (total_train_valid_elements + 1e-8) if total_train_valid_elements > 0 else float('nan')\n",
    "\n",
    "    train_f1, train_precision, train_recall, train_roc_auc = calculate_classification_metrics_optimized(\n",
    "        train_true_positives, train_false_positives, train_true_negatives, train_false_negatives,\n",
    "        np.array(all_train_valid_predictions_probs_for_auc),\n",
    "        np.array(all_train_valid_targets_for_auc)\n",
    "    )\n",
    "    \n",
    "    train_losses.append(epoch_avg_loss)\n",
    "    train_f1_scores.append(train_f1)\n",
    "    train_precisions.append(train_precision)\n",
    "    train_recalls.append(train_recall)\n",
    "    train_roc_aucs.append(train_roc_auc)\n",
    "\n",
    "    print(f\"\\n--- Epoch {epoch+1}/{num_epochs} Training Summary ---\")\n",
    "    print(f\"Train Average Loss (BCE): {epoch_avg_loss:.6f}\")\n",
    "    print(f\"Train F1-score: {train_f1:.6f}\")\n",
    "    print(f\"Train Precision: {train_precision:.6f}\")\n",
    "    print(f\"Train Recall: {train_recall:.6f}\")\n",
    "    print(f\"Train ROC AUC (Sampled): {train_roc_auc:.6f}\")\n",
    "\n",
    "    # --- Validation Phase ---\n",
    "    # Max AUC samples for validation is larger as per original code\n",
    "    val_loss, val_f1, val_precision, val_recall, val_roc_auc = evaluate_model(\n",
    "        model, validation_dataloader, criterion, num_channels, device, classification_threshold, max_auc_samples=500000)\n",
    "    \n",
    "    val_losses.append(val_loss)\n",
    "    val_f1_scores.append(val_f1)\n",
    "    val_precisions.append(val_precision)\n",
    "    val_recalls.append(val_recall)\n",
    "    val_roc_aucs.append(val_roc_auc)\n",
    "\n",
    "\n",
    "    print(f\"\\n--- Epoch {epoch+1}/{num_epochs} Validation Summary ---\")\n",
    "    print(f\"Validation BCE Loss: {val_loss:.6f}\")\n",
    "    print(f\"Validation F1-score: {val_f1:.6f}\")\n",
    "    print(f\"Validation Precision: {val_precision:.6f}\")\n",
    "    print(f\"Validation Recall: {val_recall:.6f}\")\n",
    "    print(f\"Validation ROC AUC: {val_roc_auc:.6f}\")\n",
    "    print(f\"Current Learning Rate: {optimizer.param_groups[0]['lr']:.6f}\")\n",
    "    \n",
    "    scheduler.step(val_roc_auc)\n",
    "    if val_roc_auc > best_roc_auc:\n",
    "        best_roc_auc = val_roc_auc\n",
    "        os.makedirs(\"./libribrain\", exist_ok=True)\n",
    "        torch.save(model.state_dict(), f\"./libribrain/speech_detection.pth\")\n",
    "        print(f\"New best model saved with validation ROC AUC: {best_roc_auc:.6f}\")\n",
    "        \n",
    "print(\"\\nTraining complete!\")\n",
    "torch.save(model.state_dict(), f\"./libribrain/speech_detection_final.pth\")\n",
    "os.makedirs(\"./libribrain\", exist_ok=True)\n",
    "plot_metrics(train_losses, val_losses, train_f1_scores, val_f1_scores,\n",
    "             train_precisions, val_precisions, train_recalls, val_recalls,\n",
    "             train_roc_aucs, val_roc_aucs,\n",
    "             num_epochs, save_dir=\"./libribrain/\")\n",
    "print(f\"Combined classification metrics plot saved to ./libribrain/classification_metrics_combined.png\")"
   ]
  }
 ],
 "metadata": {
  "kernelspec": {
   "display_name": "Python 3 (ipykernel)",
   "language": "python",
   "name": "python3"
  },
  "language_info": {
   "codemirror_mode": {
    "name": "ipython",
    "version": 3
   },
   "file_extension": ".py",
   "mimetype": "text/x-python",
   "name": "python",
   "nbconvert_exporter": "python",
   "pygments_lexer": "ipython3",
   "version": "3.13.5"
  }
 },
 "nbformat": 4,
 "nbformat_minor": 5
}
